{
 "cells": [
  {
   "cell_type": "code",
   "execution_count": 17,
   "id": "ce5e5a7c-ad65-43a1-943b-5533abfb75b0",
   "metadata": {},
   "outputs": [],
   "source": [
    "import requests\n",
    "from dotenv import load_dotenv\n",
    "import os\n",
    "load_dotenv()\n",
    "import pandas as pd\n",
    "from shroomdk import ShroomDK\n",
    "from datetime import date\n"
   ]
  },
  {
   "cell_type": "code",
   "execution_count": 2,
   "id": "571f53a2-0eb4-4235-85c2-3fb83a13a2a7",
   "metadata": {},
   "outputs": [],
   "source": [
    "def get_magicTransfers():\n",
    "    import pandas as pd\n",
    "    import requests\n",
    "    from shroomdk import ShroomDK\n",
    "    import os\n",
    "    from dotenv import load_dotenv\n",
    "    load_dotenv\n",
    "\n",
    "    FLIPSIDE_API_KEY = os.getenv(FLIPSIDE_API_KEY)\n",
    "    page_num = 1\n",
    "    pg_size = 100000\n",
    "    sdk = ShroomDK(FLIPSIDE_API_KEY)\n",
    "\n",
    "    sql_query = \"\"\"\n",
    "    Select\n",
    "        tr.block_timestamp,\n",
    "    tx_hash,\n",
    "    origin_from_address,\n",
    "    to_address,\n",
    "    'MAGIC' as symbol,\n",
    "    raw_amount/pow(10,18) as amount\n",
    "\n",
    "    from arbitrum.core.fact_token_transfers tr\n",
    "    where tr.contract_address = lower('0x539bdE0d7Dbd336b79148AA742883198BBF60342')\n",
    "    order by tr.block_timestamp\n",
    "    \"\"\"\n",
    "\n",
    "    page_num=1\n",
    "    full_queries = True\n",
    "    df=pd.DataFrame()\n",
    "\n",
    "    while full_queries is True:\n",
    "\n",
    "        query_result_set = sdk.query(\n",
    "            sql_query,\n",
    "            ttl_minutes=60,\n",
    "            cached=True,\n",
    "            timeout_minutes=20,\n",
    "            retry_interval_seconds=1,\n",
    "            page_size=pg_size,\n",
    "            page_number=page_num\n",
    "        )\n",
    "        \n",
    "        if query_result_set.run_stats.record_count > 0:\n",
    "        \n",
    "            df_new = pd.json_normalize(query_result_set.records)\n",
    "            df = pd.concat([df, df_new], axis=0)\n",
    "            page_num = page_num + 1\n",
    "        else:\n",
    "            full_queries = False\n",
    "            break\n",
    "    return df"
   ]
  },
  {
   "cell_type": "code",
   "execution_count": 3,
   "id": "a1d28e99-ec38-4b9e-bdde-235194cc1c50",
   "metadata": {},
   "outputs": [
    {
     "data": {
      "text/html": [
       "<div>\n",
       "<style scoped>\n",
       "    .dataframe tbody tr th:only-of-type {\n",
       "        vertical-align: middle;\n",
       "    }\n",
       "\n",
       "    .dataframe tbody tr th {\n",
       "        vertical-align: top;\n",
       "    }\n",
       "\n",
       "    .dataframe thead th {\n",
       "        text-align: right;\n",
       "    }\n",
       "</style>\n",
       "<table border=\"1\" class=\"dataframe\">\n",
       "  <thead>\n",
       "    <tr style=\"text-align: right;\">\n",
       "      <th></th>\n",
       "      <th>block_timestamp</th>\n",
       "      <th>tx_hash</th>\n",
       "      <th>origin_from_address</th>\n",
       "      <th>to_address</th>\n",
       "      <th>symbol</th>\n",
       "      <th>amount</th>\n",
       "    </tr>\n",
       "  </thead>\n",
       "  <tbody>\n",
       "    <tr>\n",
       "      <th>0</th>\n",
       "      <td>2022-04-18 02:29:15.000</td>\n",
       "      <td>0x847184d4c5c80d1c2fdd7299d1c0638e3b026d0a40b6...</td>\n",
       "      <td>0x259b9c4cfeadaef8a5b842710a777364988415b3</td>\n",
       "      <td>0xb7e50106a5bd3cf21af210a755f9c8740890a8c9</td>\n",
       "      <td>MAGIC</td>\n",
       "      <td>198.55000</td>\n",
       "    </tr>\n",
       "    <tr>\n",
       "      <th>1</th>\n",
       "      <td>2022-04-18 02:29:15.000</td>\n",
       "      <td>0xfe752a163e23784b68db2cb6d28bd2bd9b9153752498...</td>\n",
       "      <td>0x9856b227b644718bd4a9f51522120fde65204991</td>\n",
       "      <td>0xdb6ab450178babcf0e467c1f3b436050d907e233</td>\n",
       "      <td>MAGIC</td>\n",
       "      <td>4.74500</td>\n",
       "    </tr>\n",
       "    <tr>\n",
       "      <th>2</th>\n",
       "      <td>2022-04-18 02:29:15.000</td>\n",
       "      <td>0xfe752a163e23784b68db2cb6d28bd2bd9b9153752498...</td>\n",
       "      <td>0x9856b227b644718bd4a9f51522120fde65204991</td>\n",
       "      <td>0xaaab5d6fbaab242c1c0828d378c01044c9f32061</td>\n",
       "      <td>MAGIC</td>\n",
       "      <td>90.15500</td>\n",
       "    </tr>\n",
       "    <tr>\n",
       "      <th>3</th>\n",
       "      <td>2022-04-18 03:21:40.000</td>\n",
       "      <td>0x1767c1f3a681f40843f2a5f7f8197e505e2e5078307b...</td>\n",
       "      <td>0x1c3f381b232b75ddb73becf5c3cd22737a52c56b</td>\n",
       "      <td>0xb7e50106a5bd3cf21af210a755f9c8740890a8c9</td>\n",
       "      <td>MAGIC</td>\n",
       "      <td>98.88000</td>\n",
       "    </tr>\n",
       "    <tr>\n",
       "      <th>4</th>\n",
       "      <td>2022-04-18 04:14:28.000</td>\n",
       "      <td>0xa71ae9ccfd90fd1c4129921a6ceda0943360d5e02a6a...</td>\n",
       "      <td>0x9db4f1c355cd9dccf22b8c571b9eca0a13ddd44c</td>\n",
       "      <td>0xdb6ab450178babcf0e467c1f3b436050d907e233</td>\n",
       "      <td>MAGIC</td>\n",
       "      <td>0.22500</td>\n",
       "    </tr>\n",
       "    <tr>\n",
       "      <th>...</th>\n",
       "      <td>...</td>\n",
       "      <td>...</td>\n",
       "      <td>...</td>\n",
       "      <td>...</td>\n",
       "      <td>...</td>\n",
       "      <td>...</td>\n",
       "    </tr>\n",
       "    <tr>\n",
       "      <th>99995</th>\n",
       "      <td>2022-09-19 10:09:19.000</td>\n",
       "      <td>0x1f3f906feb749ee80decbc89dec98228d0cf059c4492...</td>\n",
       "      <td>0xc00fc2775cce5b61ffd6ec1eec0de0119f25dc87</td>\n",
       "      <td>0x2b5321c1afddfb6680aafff4df96a209e18dea1c</td>\n",
       "      <td>MAGIC</td>\n",
       "      <td>17.07150</td>\n",
       "    </tr>\n",
       "    <tr>\n",
       "      <th>99996</th>\n",
       "      <td>2022-09-19 10:09:19.000</td>\n",
       "      <td>0x1f3f906feb749ee80decbc89dec98228d0cf059c4492...</td>\n",
       "      <td>0xc00fc2775cce5b61ffd6ec1eec0de0119f25dc87</td>\n",
       "      <td>0xe6db66725c3f50b8625e76822e0a58871c8a4a91</td>\n",
       "      <td>MAGIC</td>\n",
       "      <td>0.44925</td>\n",
       "    </tr>\n",
       "    <tr>\n",
       "      <th>99997</th>\n",
       "      <td>2022-09-19 10:09:19.000</td>\n",
       "      <td>0x1f3f906feb749ee80decbc89dec98228d0cf059c4492...</td>\n",
       "      <td>0xc00fc2775cce5b61ffd6ec1eec0de0119f25dc87</td>\n",
       "      <td>0xdb6ab450178babcf0e467c1f3b436050d907e233</td>\n",
       "      <td>MAGIC</td>\n",
       "      <td>0.44925</td>\n",
       "    </tr>\n",
       "    <tr>\n",
       "      <th>99998</th>\n",
       "      <td>2022-09-19 10:09:33.000</td>\n",
       "      <td>0x34df1b20f5dd2797e1cfab4877378264306cf0b29169...</td>\n",
       "      <td>0xa2225b86ccb530ac9a81d41a3d17ab643a9f7c8c</td>\n",
       "      <td>0xdb6ab450178babcf0e467c1f3b436050d907e233</td>\n",
       "      <td>MAGIC</td>\n",
       "      <td>0.17250</td>\n",
       "    </tr>\n",
       "    <tr>\n",
       "      <th>99999</th>\n",
       "      <td>2022-09-19 10:09:33.000</td>\n",
       "      <td>0x34df1b20f5dd2797e1cfab4877378264306cf0b29169...</td>\n",
       "      <td>0xa2225b86ccb530ac9a81d41a3d17ab643a9f7c8c</td>\n",
       "      <td>0xd735e0259a4e48366f517cff39ebec16518b2d1c</td>\n",
       "      <td>MAGIC</td>\n",
       "      <td>6.55500</td>\n",
       "    </tr>\n",
       "  </tbody>\n",
       "</table>\n",
       "<p>1000000 rows × 6 columns</p>\n",
       "</div>"
      ],
      "text/plain": [
       "               block_timestamp  \\\n",
       "0      2022-04-18 02:29:15.000   \n",
       "1      2022-04-18 02:29:15.000   \n",
       "2      2022-04-18 02:29:15.000   \n",
       "3      2022-04-18 03:21:40.000   \n",
       "4      2022-04-18 04:14:28.000   \n",
       "...                        ...   \n",
       "99995  2022-09-19 10:09:19.000   \n",
       "99996  2022-09-19 10:09:19.000   \n",
       "99997  2022-09-19 10:09:19.000   \n",
       "99998  2022-09-19 10:09:33.000   \n",
       "99999  2022-09-19 10:09:33.000   \n",
       "\n",
       "                                                 tx_hash  \\\n",
       "0      0x847184d4c5c80d1c2fdd7299d1c0638e3b026d0a40b6...   \n",
       "1      0xfe752a163e23784b68db2cb6d28bd2bd9b9153752498...   \n",
       "2      0xfe752a163e23784b68db2cb6d28bd2bd9b9153752498...   \n",
       "3      0x1767c1f3a681f40843f2a5f7f8197e505e2e5078307b...   \n",
       "4      0xa71ae9ccfd90fd1c4129921a6ceda0943360d5e02a6a...   \n",
       "...                                                  ...   \n",
       "99995  0x1f3f906feb749ee80decbc89dec98228d0cf059c4492...   \n",
       "99996  0x1f3f906feb749ee80decbc89dec98228d0cf059c4492...   \n",
       "99997  0x1f3f906feb749ee80decbc89dec98228d0cf059c4492...   \n",
       "99998  0x34df1b20f5dd2797e1cfab4877378264306cf0b29169...   \n",
       "99999  0x34df1b20f5dd2797e1cfab4877378264306cf0b29169...   \n",
       "\n",
       "                              origin_from_address  \\\n",
       "0      0x259b9c4cfeadaef8a5b842710a777364988415b3   \n",
       "1      0x9856b227b644718bd4a9f51522120fde65204991   \n",
       "2      0x9856b227b644718bd4a9f51522120fde65204991   \n",
       "3      0x1c3f381b232b75ddb73becf5c3cd22737a52c56b   \n",
       "4      0x9db4f1c355cd9dccf22b8c571b9eca0a13ddd44c   \n",
       "...                                           ...   \n",
       "99995  0xc00fc2775cce5b61ffd6ec1eec0de0119f25dc87   \n",
       "99996  0xc00fc2775cce5b61ffd6ec1eec0de0119f25dc87   \n",
       "99997  0xc00fc2775cce5b61ffd6ec1eec0de0119f25dc87   \n",
       "99998  0xa2225b86ccb530ac9a81d41a3d17ab643a9f7c8c   \n",
       "99999  0xa2225b86ccb530ac9a81d41a3d17ab643a9f7c8c   \n",
       "\n",
       "                                       to_address symbol     amount  \n",
       "0      0xb7e50106a5bd3cf21af210a755f9c8740890a8c9  MAGIC  198.55000  \n",
       "1      0xdb6ab450178babcf0e467c1f3b436050d907e233  MAGIC    4.74500  \n",
       "2      0xaaab5d6fbaab242c1c0828d378c01044c9f32061  MAGIC   90.15500  \n",
       "3      0xb7e50106a5bd3cf21af210a755f9c8740890a8c9  MAGIC   98.88000  \n",
       "4      0xdb6ab450178babcf0e467c1f3b436050d907e233  MAGIC    0.22500  \n",
       "...                                           ...    ...        ...  \n",
       "99995  0x2b5321c1afddfb6680aafff4df96a209e18dea1c  MAGIC   17.07150  \n",
       "99996  0xe6db66725c3f50b8625e76822e0a58871c8a4a91  MAGIC    0.44925  \n",
       "99997  0xdb6ab450178babcf0e467c1f3b436050d907e233  MAGIC    0.44925  \n",
       "99998  0xdb6ab450178babcf0e467c1f3b436050d907e233  MAGIC    0.17250  \n",
       "99999  0xd735e0259a4e48366f517cff39ebec16518b2d1c  MAGIC    6.55500  \n",
       "\n",
       "[1000000 rows x 6 columns]"
      ]
     },
     "execution_count": 3,
     "metadata": {},
     "output_type": "execute_result"
    }
   ],
   "source": [
    "df = get_magicTransfers()\n",
    "df"
   ]
  },
  {
   "cell_type": "code",
   "execution_count": 392,
   "id": "97a3f537-ed6f-442d-a121-57972ce85441",
   "metadata": {},
   "outputs": [],
   "source": [
    "def activity_filterDateAndTxns(_df, date_list, tx_min_list):\n",
    "    # \n",
    "    if _df == 'Get New':\n",
    "        df = get_magicTransfers()\n",
    "    else:\n",
    "        df = _df\n",
    "    interactions_date_filtered = dict()    \n",
    "    god = dict()\n",
    "    \n",
    "    df['date'] = pd.to_datetime(df['block_timestamp']).dt.date\n",
    "    df_test = df[['date', 'tx_hash', 'origin_from_address', 'amount']]\n",
    "    \n",
    "    dm_list = []\n",
    "    for date_item in date_list:\n",
    "        dft=pd.DataFrame()\n",
    "        filter_time = date_item\n",
    "        date_mask = df_test['date'] >= date.today() - pd.Timedelta(days=filter_time)\n",
    "        dft_date = df_test[date_mask].copy()\n",
    "        \n",
    "        dft=dft_date.groupby('origin_from_address')['tx_hash'].count().reset_index()\n",
    "        \n",
    "        \n",
    "        interactions_date_filtered.update({date_item:dft})\n",
    "        # dm_list.append(\n",
    "        \n",
    "        num_active_list = {}\n",
    "        \n",
    "    for tx_min in tx_min_list:\n",
    "        print(f'---------------------Min # Txns: {tx_min}------------------\\n')\n",
    "        for k in interactions_date_filtered:\n",
    "            print(f'# Days:{k}\\nMin Txns:{tx_min}------------------\\n')\n",
    "            dm=interactions_date_filtered[k]\n",
    "            tx_min_filter = dm['tx_hash'] >= tx_min\n",
    "            active_accounts = dm[tx_min_filter]\n",
    "            num_active = len(set(active_accounts['origin_from_address'].values))\n",
    "            \n",
    "            # print(f'Updating god with: {k} and {tx_min}')\n",
    "            god.update({(k, tx_min) : {'min_txns': tx_min, 'timeframe': k, 'num_active':num_active}})\n",
    "    print('We have god!')\n",
    "    print(god)\n",
    "    return god\n",
    "#         for dm in dm_list:\n",
    "#             tx_min_filter = dm['tx_hash'] >= tx_min\n",
    "#             active_accounts = dft_date[tx_filter].sort_values('tx_hash', ascending=False)\n",
    "#             num_active = len(set(active_accounts['origin_from_address'].values))\n",
    "            \n",
    "#             num_active_list = {():{'min_tx': \n",
    "            \n",
    "#             tx_mask_list.append(tx_min_filter)\n",
    "\n",
    "#     filter_time = 21\n",
    "#     tx_min = 10\n",
    "\n",
    "#     date_mask = (df['date'] > date.today() - pd.Timedelta(days=filter_time))\n",
    "#     dft_date = df[date_mask].groupby('origin_from_address')['tx_hash'].count().reset_index()\n",
    "\n",
    "#     dft_date\n",
    "\n",
    "#     tx_filter = dft_date['tx_hash'] >= tx_min\n",
    "#     active_accounts = dft_date[tx_filter].sort_values('tx_hash', ascending=False)\n",
    "#     active_accounts\n",
    "\n",
    "#     num_active = len(set(active_accounts['origin_from_address'].values))"
   ]
  },
  {
   "cell_type": "code",
   "execution_count": 381,
   "id": "e222c87d-76e3-49f2-bad0-78d1bef6a7ab",
   "metadata": {},
   "outputs": [
    {
     "name": "stdout",
     "output_type": "stream",
     "text": [
      "---------------------Min # Txns: 1------------------\n",
      "\n",
      "# Days:1\n",
      "Min Txns:1------------------\n",
      "\n",
      "# Days:3\n",
      "Min Txns:1------------------\n",
      "\n",
      "# Days:7\n",
      "Min Txns:1------------------\n",
      "\n",
      "# Days:14\n",
      "Min Txns:1------------------\n",
      "\n",
      "# Days:21\n",
      "Min Txns:1------------------\n",
      "\n",
      "# Days:30\n",
      "Min Txns:1------------------\n",
      "\n",
      "# Days:45\n",
      "Min Txns:1------------------\n",
      "\n",
      "# Days:60\n",
      "Min Txns:1------------------\n",
      "\n",
      "# Days:90\n",
      "Min Txns:1------------------\n",
      "\n",
      "---------------------Min # Txns: 10------------------\n",
      "\n",
      "# Days:1\n",
      "Min Txns:10------------------\n",
      "\n",
      "# Days:3\n",
      "Min Txns:10------------------\n",
      "\n",
      "# Days:7\n",
      "Min Txns:10------------------\n",
      "\n",
      "# Days:14\n",
      "Min Txns:10------------------\n",
      "\n",
      "# Days:21\n",
      "Min Txns:10------------------\n",
      "\n",
      "# Days:30\n",
      "Min Txns:10------------------\n",
      "\n",
      "# Days:45\n",
      "Min Txns:10------------------\n",
      "\n",
      "# Days:60\n",
      "Min Txns:10------------------\n",
      "\n",
      "# Days:90\n",
      "Min Txns:10------------------\n",
      "\n",
      "---------------------Min # Txns: 50------------------\n",
      "\n",
      "# Days:1\n",
      "Min Txns:50------------------\n",
      "\n",
      "# Days:3\n",
      "Min Txns:50------------------\n",
      "\n",
      "# Days:7\n",
      "Min Txns:50------------------\n",
      "\n",
      "# Days:14\n",
      "Min Txns:50------------------\n",
      "\n",
      "# Days:21\n",
      "Min Txns:50------------------\n",
      "\n",
      "# Days:30\n",
      "Min Txns:50------------------\n",
      "\n",
      "# Days:45\n",
      "Min Txns:50------------------\n",
      "\n",
      "# Days:60\n",
      "Min Txns:50------------------\n",
      "\n",
      "# Days:90\n",
      "Min Txns:50------------------\n",
      "\n",
      "---------------------Min # Txns: 100------------------\n",
      "\n",
      "# Days:1\n",
      "Min Txns:100------------------\n",
      "\n",
      "# Days:3\n",
      "Min Txns:100------------------\n",
      "\n",
      "# Days:7\n",
      "Min Txns:100------------------\n",
      "\n",
      "# Days:14\n",
      "Min Txns:100------------------\n",
      "\n",
      "# Days:21\n",
      "Min Txns:100------------------\n",
      "\n",
      "# Days:30\n",
      "Min Txns:100------------------\n",
      "\n",
      "# Days:45\n",
      "Min Txns:100------------------\n",
      "\n",
      "# Days:60\n",
      "Min Txns:100------------------\n",
      "\n",
      "# Days:90\n",
      "Min Txns:100------------------\n",
      "\n",
      "---------------------Min # Txns: 200------------------\n",
      "\n",
      "# Days:1\n",
      "Min Txns:200------------------\n",
      "\n",
      "# Days:3\n",
      "Min Txns:200------------------\n",
      "\n",
      "# Days:7\n",
      "Min Txns:200------------------\n",
      "\n",
      "# Days:14\n",
      "Min Txns:200------------------\n",
      "\n",
      "# Days:21\n",
      "Min Txns:200------------------\n",
      "\n",
      "# Days:30\n",
      "Min Txns:200------------------\n",
      "\n",
      "# Days:45\n",
      "Min Txns:200------------------\n",
      "\n",
      "# Days:60\n",
      "Min Txns:200------------------\n",
      "\n",
      "# Days:90\n",
      "Min Txns:200------------------\n",
      "\n",
      "We have god!\n",
      "{(1, 1): {'min_txns': 1, 'timeframe': 1, 'num_active': 0}, (3, 1): {'min_txns': 1, 'timeframe': 3, 'num_active': 0}, (7, 1): {'min_txns': 1, 'timeframe': 7, 'num_active': 0}, (14, 1): {'min_txns': 1, 'timeframe': 14, 'num_active': 0}, (21, 1): {'min_txns': 1, 'timeframe': 21, 'num_active': 23965}, (30, 1): {'min_txns': 1, 'timeframe': 30, 'num_active': 43680}, (45, 1): {'min_txns': 1, 'timeframe': 45, 'num_active': 51423}, (60, 1): {'min_txns': 1, 'timeframe': 60, 'num_active': 55505}, (90, 1): {'min_txns': 1, 'timeframe': 90, 'num_active': 59003}, (1, 10): {'min_txns': 10, 'timeframe': 1, 'num_active': 0}, (3, 10): {'min_txns': 10, 'timeframe': 3, 'num_active': 0}, (7, 10): {'min_txns': 10, 'timeframe': 7, 'num_active': 0}, (14, 10): {'min_txns': 10, 'timeframe': 14, 'num_active': 0}, (21, 10): {'min_txns': 10, 'timeframe': 21, 'num_active': 874}, (30, 10): {'min_txns': 10, 'timeframe': 30, 'num_active': 1748}, (45, 10): {'min_txns': 10, 'timeframe': 45, 'num_active': 2720}, (60, 10): {'min_txns': 10, 'timeframe': 60, 'num_active': 3260}, (90, 10): {'min_txns': 10, 'timeframe': 90, 'num_active': 4072}, (1, 50): {'min_txns': 50, 'timeframe': 1, 'num_active': 0}, (3, 50): {'min_txns': 50, 'timeframe': 3, 'num_active': 0}, (7, 50): {'min_txns': 50, 'timeframe': 7, 'num_active': 0}, (14, 50): {'min_txns': 50, 'timeframe': 14, 'num_active': 0}, (21, 50): {'min_txns': 50, 'timeframe': 21, 'num_active': 172}, (30, 50): {'min_txns': 50, 'timeframe': 30, 'num_active': 444}, (45, 50): {'min_txns': 50, 'timeframe': 45, 'num_active': 697}, (60, 50): {'min_txns': 50, 'timeframe': 60, 'num_active': 851}, (90, 50): {'min_txns': 50, 'timeframe': 90, 'num_active': 1266}, (1, 100): {'min_txns': 100, 'timeframe': 1, 'num_active': 0}, (3, 100): {'min_txns': 100, 'timeframe': 3, 'num_active': 0}, (7, 100): {'min_txns': 100, 'timeframe': 7, 'num_active': 0}, (14, 100): {'min_txns': 100, 'timeframe': 14, 'num_active': 0}, (21, 100): {'min_txns': 100, 'timeframe': 21, 'num_active': 71}, (30, 100): {'min_txns': 100, 'timeframe': 30, 'num_active': 233}, (45, 100): {'min_txns': 100, 'timeframe': 45, 'num_active': 388}, (60, 100): {'min_txns': 100, 'timeframe': 60, 'num_active': 474}, (90, 100): {'min_txns': 100, 'timeframe': 90, 'num_active': 790}, (1, 200): {'min_txns': 200, 'timeframe': 1, 'num_active': 0}, (3, 200): {'min_txns': 200, 'timeframe': 3, 'num_active': 0}, (7, 200): {'min_txns': 200, 'timeframe': 7, 'num_active': 0}, (14, 200): {'min_txns': 200, 'timeframe': 14, 'num_active': 0}, (21, 200): {'min_txns': 200, 'timeframe': 21, 'num_active': 25}, (30, 200): {'min_txns': 200, 'timeframe': 30, 'num_active': 99}, (45, 200): {'min_txns': 200, 'timeframe': 45, 'num_active': 210}, (60, 200): {'min_txns': 200, 'timeframe': 60, 'num_active': 255}, (90, 200): {'min_txns': 200, 'timeframe': 90, 'num_active': 438}}\n"
     ]
    },
    {
     "data": {
      "text/plain": [
       "{(1, 1): {'min_txns': 1, 'timeframe': 1, 'num_active': 0},\n",
       " (3, 1): {'min_txns': 1, 'timeframe': 3, 'num_active': 0},\n",
       " (7, 1): {'min_txns': 1, 'timeframe': 7, 'num_active': 0},\n",
       " (14, 1): {'min_txns': 1, 'timeframe': 14, 'num_active': 0},\n",
       " (21, 1): {'min_txns': 1, 'timeframe': 21, 'num_active': 23965},\n",
       " (30, 1): {'min_txns': 1, 'timeframe': 30, 'num_active': 43680},\n",
       " (45, 1): {'min_txns': 1, 'timeframe': 45, 'num_active': 51423},\n",
       " (60, 1): {'min_txns': 1, 'timeframe': 60, 'num_active': 55505},\n",
       " (90, 1): {'min_txns': 1, 'timeframe': 90, 'num_active': 59003},\n",
       " (1, 10): {'min_txns': 10, 'timeframe': 1, 'num_active': 0},\n",
       " (3, 10): {'min_txns': 10, 'timeframe': 3, 'num_active': 0},\n",
       " (7, 10): {'min_txns': 10, 'timeframe': 7, 'num_active': 0},\n",
       " (14, 10): {'min_txns': 10, 'timeframe': 14, 'num_active': 0},\n",
       " (21, 10): {'min_txns': 10, 'timeframe': 21, 'num_active': 874},\n",
       " (30, 10): {'min_txns': 10, 'timeframe': 30, 'num_active': 1748},\n",
       " (45, 10): {'min_txns': 10, 'timeframe': 45, 'num_active': 2720},\n",
       " (60, 10): {'min_txns': 10, 'timeframe': 60, 'num_active': 3260},\n",
       " (90, 10): {'min_txns': 10, 'timeframe': 90, 'num_active': 4072},\n",
       " (1, 50): {'min_txns': 50, 'timeframe': 1, 'num_active': 0},\n",
       " (3, 50): {'min_txns': 50, 'timeframe': 3, 'num_active': 0},\n",
       " (7, 50): {'min_txns': 50, 'timeframe': 7, 'num_active': 0},\n",
       " (14, 50): {'min_txns': 50, 'timeframe': 14, 'num_active': 0},\n",
       " (21, 50): {'min_txns': 50, 'timeframe': 21, 'num_active': 172},\n",
       " (30, 50): {'min_txns': 50, 'timeframe': 30, 'num_active': 444},\n",
       " (45, 50): {'min_txns': 50, 'timeframe': 45, 'num_active': 697},\n",
       " (60, 50): {'min_txns': 50, 'timeframe': 60, 'num_active': 851},\n",
       " (90, 50): {'min_txns': 50, 'timeframe': 90, 'num_active': 1266},\n",
       " (1, 100): {'min_txns': 100, 'timeframe': 1, 'num_active': 0},\n",
       " (3, 100): {'min_txns': 100, 'timeframe': 3, 'num_active': 0},\n",
       " (7, 100): {'min_txns': 100, 'timeframe': 7, 'num_active': 0},\n",
       " (14, 100): {'min_txns': 100, 'timeframe': 14, 'num_active': 0},\n",
       " (21, 100): {'min_txns': 100, 'timeframe': 21, 'num_active': 71},\n",
       " (30, 100): {'min_txns': 100, 'timeframe': 30, 'num_active': 233},\n",
       " (45, 100): {'min_txns': 100, 'timeframe': 45, 'num_active': 388},\n",
       " (60, 100): {'min_txns': 100, 'timeframe': 60, 'num_active': 474},\n",
       " (90, 100): {'min_txns': 100, 'timeframe': 90, 'num_active': 790},\n",
       " (1, 200): {'min_txns': 200, 'timeframe': 1, 'num_active': 0},\n",
       " (3, 200): {'min_txns': 200, 'timeframe': 3, 'num_active': 0},\n",
       " (7, 200): {'min_txns': 200, 'timeframe': 7, 'num_active': 0},\n",
       " (14, 200): {'min_txns': 200, 'timeframe': 14, 'num_active': 0},\n",
       " (21, 200): {'min_txns': 200, 'timeframe': 21, 'num_active': 25},\n",
       " (30, 200): {'min_txns': 200, 'timeframe': 30, 'num_active': 99},\n",
       " (45, 200): {'min_txns': 200, 'timeframe': 45, 'num_active': 210},\n",
       " (60, 200): {'min_txns': 200, 'timeframe': 60, 'num_active': 255},\n",
       " (90, 200): {'min_txns': 200, 'timeframe': 90, 'num_active': 438}}"
      ]
     },
     "execution_count": 381,
     "metadata": {},
     "output_type": "execute_result"
    }
   ],
   "source": [
    "date_list = [1,3,7,14,21,30,45,60,90]\n",
    "tx_min_list = [1, 10, 50, 100, 200]\n",
    "\n",
    "result = activity_filterDateAndTxns('Get New', date_list, tx_min_list)\n",
    "result"
   ]
  },
  {
   "cell_type": "code",
   "execution_count": 399,
   "id": "d8fd9d71-e632-4d3a-a1a3-9362a6355598",
   "metadata": {},
   "outputs": [
    {
     "data": {
      "application/vnd.plotly.v1+json": {
       "config": {
        "plotlyServerURL": "https://plot.ly"
       },
       "data": [
        {
         "coloraxis": "coloraxis",
         "hovertemplate": "x: %{x}<br>y: %{y}<br>color: %{z}<extra></extra>",
         "name": "0",
         "type": "heatmap",
         "xaxis": "x",
         "yaxis": "y",
         "z": [
          [
           1,
           1,
           1,
           1,
           1,
           1,
           1,
           1,
           1,
           10,
           10,
           10,
           10,
           10,
           10,
           10,
           10,
           10,
           50,
           50,
           50,
           50,
           50,
           50,
           50,
           50,
           50,
           100,
           100,
           100,
           100,
           100,
           100,
           100,
           100,
           100,
           200,
           200,
           200,
           200,
           200,
           200,
           200,
           200,
           200
          ],
          [
           1,
           3,
           7,
           14,
           21,
           30,
           45,
           60,
           90,
           1,
           3,
           7,
           14,
           21,
           30,
           45,
           60,
           90,
           1,
           3,
           7,
           14,
           21,
           30,
           45,
           60,
           90,
           1,
           3,
           7,
           14,
           21,
           30,
           45,
           60,
           90,
           1,
           3,
           7,
           14,
           21,
           30,
           45,
           60,
           90
          ],
          [
           0,
           0,
           0,
           0,
           23965,
           43680,
           51423,
           55505,
           59003,
           0,
           0,
           0,
           0,
           874,
           1748,
           2720,
           3260,
           4072,
           0,
           0,
           0,
           0,
           172,
           444,
           697,
           851,
           1266,
           0,
           0,
           0,
           0,
           71,
           233,
           388,
           474,
           790,
           0,
           0,
           0,
           0,
           25,
           99,
           210,
           255,
           438
          ]
         ]
        }
       ],
       "layout": {
        "autosize": true,
        "coloraxis": {
         "colorscale": [
          [
           0,
           "#0d0887"
          ],
          [
           0.1111111111111111,
           "#46039f"
          ],
          [
           0.2222222222222222,
           "#7201a8"
          ],
          [
           0.3333333333333333,
           "#9c179e"
          ],
          [
           0.4444444444444444,
           "#bd3786"
          ],
          [
           0.5555555555555556,
           "#d8576b"
          ],
          [
           0.6666666666666666,
           "#ed7953"
          ],
          [
           0.7777777777777778,
           "#fb9f3a"
          ],
          [
           0.8888888888888888,
           "#fdca26"
          ],
          [
           1,
           "#f0f921"
          ]
         ]
        },
        "margin": {
         "t": 60
        },
        "template": {
         "data": {
          "bar": [
           {
            "error_x": {
             "color": "#2a3f5f"
            },
            "error_y": {
             "color": "#2a3f5f"
            },
            "marker": {
             "line": {
              "color": "#E5ECF6",
              "width": 0.5
             },
             "pattern": {
              "fillmode": "overlay",
              "size": 10,
              "solidity": 0.2
             }
            },
            "type": "bar"
           }
          ],
          "barpolar": [
           {
            "marker": {
             "line": {
              "color": "#E5ECF6",
              "width": 0.5
             },
             "pattern": {
              "fillmode": "overlay",
              "size": 10,
              "solidity": 0.2
             }
            },
            "type": "barpolar"
           }
          ],
          "carpet": [
           {
            "aaxis": {
             "endlinecolor": "#2a3f5f",
             "gridcolor": "white",
             "linecolor": "white",
             "minorgridcolor": "white",
             "startlinecolor": "#2a3f5f"
            },
            "baxis": {
             "endlinecolor": "#2a3f5f",
             "gridcolor": "white",
             "linecolor": "white",
             "minorgridcolor": "white",
             "startlinecolor": "#2a3f5f"
            },
            "type": "carpet"
           }
          ],
          "choropleth": [
           {
            "colorbar": {
             "outlinewidth": 0,
             "ticks": ""
            },
            "type": "choropleth"
           }
          ],
          "contour": [
           {
            "colorbar": {
             "outlinewidth": 0,
             "ticks": ""
            },
            "colorscale": [
             [
              0,
              "#0d0887"
             ],
             [
              0.1111111111111111,
              "#46039f"
             ],
             [
              0.2222222222222222,
              "#7201a8"
             ],
             [
              0.3333333333333333,
              "#9c179e"
             ],
             [
              0.4444444444444444,
              "#bd3786"
             ],
             [
              0.5555555555555556,
              "#d8576b"
             ],
             [
              0.6666666666666666,
              "#ed7953"
             ],
             [
              0.7777777777777778,
              "#fb9f3a"
             ],
             [
              0.8888888888888888,
              "#fdca26"
             ],
             [
              1,
              "#f0f921"
             ]
            ],
            "type": "contour"
           }
          ],
          "contourcarpet": [
           {
            "colorbar": {
             "outlinewidth": 0,
             "ticks": ""
            },
            "type": "contourcarpet"
           }
          ],
          "heatmap": [
           {
            "colorbar": {
             "outlinewidth": 0,
             "ticks": ""
            },
            "colorscale": [
             [
              0,
              "#0d0887"
             ],
             [
              0.1111111111111111,
              "#46039f"
             ],
             [
              0.2222222222222222,
              "#7201a8"
             ],
             [
              0.3333333333333333,
              "#9c179e"
             ],
             [
              0.4444444444444444,
              "#bd3786"
             ],
             [
              0.5555555555555556,
              "#d8576b"
             ],
             [
              0.6666666666666666,
              "#ed7953"
             ],
             [
              0.7777777777777778,
              "#fb9f3a"
             ],
             [
              0.8888888888888888,
              "#fdca26"
             ],
             [
              1,
              "#f0f921"
             ]
            ],
            "type": "heatmap"
           }
          ],
          "heatmapgl": [
           {
            "colorbar": {
             "outlinewidth": 0,
             "ticks": ""
            },
            "colorscale": [
             [
              0,
              "#0d0887"
             ],
             [
              0.1111111111111111,
              "#46039f"
             ],
             [
              0.2222222222222222,
              "#7201a8"
             ],
             [
              0.3333333333333333,
              "#9c179e"
             ],
             [
              0.4444444444444444,
              "#bd3786"
             ],
             [
              0.5555555555555556,
              "#d8576b"
             ],
             [
              0.6666666666666666,
              "#ed7953"
             ],
             [
              0.7777777777777778,
              "#fb9f3a"
             ],
             [
              0.8888888888888888,
              "#fdca26"
             ],
             [
              1,
              "#f0f921"
             ]
            ],
            "type": "heatmapgl"
           }
          ],
          "histogram": [
           {
            "marker": {
             "pattern": {
              "fillmode": "overlay",
              "size": 10,
              "solidity": 0.2
             }
            },
            "type": "histogram"
           }
          ],
          "histogram2d": [
           {
            "colorbar": {
             "outlinewidth": 0,
             "ticks": ""
            },
            "colorscale": [
             [
              0,
              "#0d0887"
             ],
             [
              0.1111111111111111,
              "#46039f"
             ],
             [
              0.2222222222222222,
              "#7201a8"
             ],
             [
              0.3333333333333333,
              "#9c179e"
             ],
             [
              0.4444444444444444,
              "#bd3786"
             ],
             [
              0.5555555555555556,
              "#d8576b"
             ],
             [
              0.6666666666666666,
              "#ed7953"
             ],
             [
              0.7777777777777778,
              "#fb9f3a"
             ],
             [
              0.8888888888888888,
              "#fdca26"
             ],
             [
              1,
              "#f0f921"
             ]
            ],
            "type": "histogram2d"
           }
          ],
          "histogram2dcontour": [
           {
            "colorbar": {
             "outlinewidth": 0,
             "ticks": ""
            },
            "colorscale": [
             [
              0,
              "#0d0887"
             ],
             [
              0.1111111111111111,
              "#46039f"
             ],
             [
              0.2222222222222222,
              "#7201a8"
             ],
             [
              0.3333333333333333,
              "#9c179e"
             ],
             [
              0.4444444444444444,
              "#bd3786"
             ],
             [
              0.5555555555555556,
              "#d8576b"
             ],
             [
              0.6666666666666666,
              "#ed7953"
             ],
             [
              0.7777777777777778,
              "#fb9f3a"
             ],
             [
              0.8888888888888888,
              "#fdca26"
             ],
             [
              1,
              "#f0f921"
             ]
            ],
            "type": "histogram2dcontour"
           }
          ],
          "mesh3d": [
           {
            "colorbar": {
             "outlinewidth": 0,
             "ticks": ""
            },
            "type": "mesh3d"
           }
          ],
          "parcoords": [
           {
            "line": {
             "colorbar": {
              "outlinewidth": 0,
              "ticks": ""
             }
            },
            "type": "parcoords"
           }
          ],
          "pie": [
           {
            "automargin": true,
            "type": "pie"
           }
          ],
          "scatter": [
           {
            "fillpattern": {
             "fillmode": "overlay",
             "size": 10,
             "solidity": 0.2
            },
            "type": "scatter"
           }
          ],
          "scatter3d": [
           {
            "line": {
             "colorbar": {
              "outlinewidth": 0,
              "ticks": ""
             }
            },
            "marker": {
             "colorbar": {
              "outlinewidth": 0,
              "ticks": ""
             }
            },
            "type": "scatter3d"
           }
          ],
          "scattercarpet": [
           {
            "marker": {
             "colorbar": {
              "outlinewidth": 0,
              "ticks": ""
             }
            },
            "type": "scattercarpet"
           }
          ],
          "scattergeo": [
           {
            "marker": {
             "colorbar": {
              "outlinewidth": 0,
              "ticks": ""
             }
            },
            "type": "scattergeo"
           }
          ],
          "scattergl": [
           {
            "marker": {
             "colorbar": {
              "outlinewidth": 0,
              "ticks": ""
             }
            },
            "type": "scattergl"
           }
          ],
          "scattermapbox": [
           {
            "marker": {
             "colorbar": {
              "outlinewidth": 0,
              "ticks": ""
             }
            },
            "type": "scattermapbox"
           }
          ],
          "scatterpolar": [
           {
            "marker": {
             "colorbar": {
              "outlinewidth": 0,
              "ticks": ""
             }
            },
            "type": "scatterpolar"
           }
          ],
          "scatterpolargl": [
           {
            "marker": {
             "colorbar": {
              "outlinewidth": 0,
              "ticks": ""
             }
            },
            "type": "scatterpolargl"
           }
          ],
          "scatterternary": [
           {
            "marker": {
             "colorbar": {
              "outlinewidth": 0,
              "ticks": ""
             }
            },
            "type": "scatterternary"
           }
          ],
          "surface": [
           {
            "colorbar": {
             "outlinewidth": 0,
             "ticks": ""
            },
            "colorscale": [
             [
              0,
              "#0d0887"
             ],
             [
              0.1111111111111111,
              "#46039f"
             ],
             [
              0.2222222222222222,
              "#7201a8"
             ],
             [
              0.3333333333333333,
              "#9c179e"
             ],
             [
              0.4444444444444444,
              "#bd3786"
             ],
             [
              0.5555555555555556,
              "#d8576b"
             ],
             [
              0.6666666666666666,
              "#ed7953"
             ],
             [
              0.7777777777777778,
              "#fb9f3a"
             ],
             [
              0.8888888888888888,
              "#fdca26"
             ],
             [
              1,
              "#f0f921"
             ]
            ],
            "type": "surface"
           }
          ],
          "table": [
           {
            "cells": {
             "fill": {
              "color": "#EBF0F8"
             },
             "line": {
              "color": "white"
             }
            },
            "header": {
             "fill": {
              "color": "#C8D4E3"
             },
             "line": {
              "color": "white"
             }
            },
            "type": "table"
           }
          ]
         },
         "layout": {
          "annotationdefaults": {
           "arrowcolor": "#2a3f5f",
           "arrowhead": 0,
           "arrowwidth": 1
          },
          "autotypenumbers": "strict",
          "coloraxis": {
           "colorbar": {
            "outlinewidth": 0,
            "ticks": ""
           }
          },
          "colorscale": {
           "diverging": [
            [
             0,
             "#8e0152"
            ],
            [
             0.1,
             "#c51b7d"
            ],
            [
             0.2,
             "#de77ae"
            ],
            [
             0.3,
             "#f1b6da"
            ],
            [
             0.4,
             "#fde0ef"
            ],
            [
             0.5,
             "#f7f7f7"
            ],
            [
             0.6,
             "#e6f5d0"
            ],
            [
             0.7,
             "#b8e186"
            ],
            [
             0.8,
             "#7fbc41"
            ],
            [
             0.9,
             "#4d9221"
            ],
            [
             1,
             "#276419"
            ]
           ],
           "sequential": [
            [
             0,
             "#0d0887"
            ],
            [
             0.1111111111111111,
             "#46039f"
            ],
            [
             0.2222222222222222,
             "#7201a8"
            ],
            [
             0.3333333333333333,
             "#9c179e"
            ],
            [
             0.4444444444444444,
             "#bd3786"
            ],
            [
             0.5555555555555556,
             "#d8576b"
            ],
            [
             0.6666666666666666,
             "#ed7953"
            ],
            [
             0.7777777777777778,
             "#fb9f3a"
            ],
            [
             0.8888888888888888,
             "#fdca26"
            ],
            [
             1,
             "#f0f921"
            ]
           ],
           "sequentialminus": [
            [
             0,
             "#0d0887"
            ],
            [
             0.1111111111111111,
             "#46039f"
            ],
            [
             0.2222222222222222,
             "#7201a8"
            ],
            [
             0.3333333333333333,
             "#9c179e"
            ],
            [
             0.4444444444444444,
             "#bd3786"
            ],
            [
             0.5555555555555556,
             "#d8576b"
            ],
            [
             0.6666666666666666,
             "#ed7953"
            ],
            [
             0.7777777777777778,
             "#fb9f3a"
            ],
            [
             0.8888888888888888,
             "#fdca26"
            ],
            [
             1,
             "#f0f921"
            ]
           ]
          },
          "colorway": [
           "#636efa",
           "#EF553B",
           "#00cc96",
           "#ab63fa",
           "#FFA15A",
           "#19d3f3",
           "#FF6692",
           "#B6E880",
           "#FF97FF",
           "#FECB52"
          ],
          "font": {
           "color": "#2a3f5f"
          },
          "geo": {
           "bgcolor": "white",
           "lakecolor": "white",
           "landcolor": "#E5ECF6",
           "showlakes": true,
           "showland": true,
           "subunitcolor": "white"
          },
          "hoverlabel": {
           "align": "left"
          },
          "hovermode": "closest",
          "mapbox": {
           "style": "light"
          },
          "paper_bgcolor": "white",
          "plot_bgcolor": "#E5ECF6",
          "polar": {
           "angularaxis": {
            "gridcolor": "white",
            "linecolor": "white",
            "ticks": ""
           },
           "bgcolor": "#E5ECF6",
           "radialaxis": {
            "gridcolor": "white",
            "linecolor": "white",
            "ticks": ""
           }
          },
          "scene": {
           "xaxis": {
            "backgroundcolor": "#E5ECF6",
            "gridcolor": "white",
            "gridwidth": 2,
            "linecolor": "white",
            "showbackground": true,
            "ticks": "",
            "zerolinecolor": "white"
           },
           "yaxis": {
            "backgroundcolor": "#E5ECF6",
            "gridcolor": "white",
            "gridwidth": 2,
            "linecolor": "white",
            "showbackground": true,
            "ticks": "",
            "zerolinecolor": "white"
           },
           "zaxis": {
            "backgroundcolor": "#E5ECF6",
            "gridcolor": "white",
            "gridwidth": 2,
            "linecolor": "white",
            "showbackground": true,
            "ticks": "",
            "zerolinecolor": "white"
           }
          },
          "shapedefaults": {
           "line": {
            "color": "#2a3f5f"
           }
          },
          "ternary": {
           "aaxis": {
            "gridcolor": "white",
            "linecolor": "white",
            "ticks": ""
           },
           "baxis": {
            "gridcolor": "white",
            "linecolor": "white",
            "ticks": ""
           },
           "bgcolor": "#E5ECF6",
           "caxis": {
            "gridcolor": "white",
            "linecolor": "white",
            "ticks": ""
           }
          },
          "title": {
           "x": 0.05
          },
          "xaxis": {
           "automargin": true,
           "gridcolor": "white",
           "linecolor": "white",
           "ticks": "",
           "title": {
            "standoff": 15
           },
           "zerolinecolor": "white",
           "zerolinewidth": 2
          },
          "yaxis": {
           "automargin": true,
           "gridcolor": "white",
           "linecolor": "white",
           "ticks": "",
           "title": {
            "standoff": 15
           },
           "zerolinecolor": "white",
           "zerolinewidth": 2
          }
         }
        },
        "xaxis": {
         "anchor": "y",
         "autorange": true,
         "constrain": "domain",
         "domain": [
          0,
          1
         ],
         "range": [
          -0.5,
          44.5
         ],
         "scaleanchor": "y"
        },
        "yaxis": {
         "anchor": "x",
         "autorange": true,
         "constrain": "domain",
         "domain": [
          0.2689393939393939,
          0.7310606060606061
         ],
         "range": [
          2.5,
          -0.5
         ]
        }
       }
      },
      "image/png": "[encoded data removed]",
      "text/html": [
       "<div>                            <div id=\"1286c146-d506-47be-a109-bd283bfa6618\" class=\"plotly-graph-div\" style=\"height:525px; width:100%;\"></div>            <script type=\"text/javascript\">                require([\"plotly\"], function(Plotly) {                    window.PLOTLYENV=window.PLOTLYENV || {};                                    if (document.getElementById(\"1286c146-d506-47be-a109-bd283bfa6618\")) {                    Plotly.newPlot(                        \"1286c146-d506-47be-a109-bd283bfa6618\",                        [{\"coloraxis\":\"coloraxis\",\"name\":\"0\",\"z\":[[1,1,1,1,1,1,1,1,1,10,10,10,10,10,10,10,10,10,50,50,50,50,50,50,50,50,50,100,100,100,100,100,100,100,100,100,200,200,200,200,200,200,200,200,200],[1,3,7,14,21,30,45,60,90,1,3,7,14,21,30,45,60,90,1,3,7,14,21,30,45,60,90,1,3,7,14,21,30,45,60,90,1,3,7,14,21,30,45,60,90],[0,0,0,0,23965,43680,51423,55505,59003,0,0,0,0,874,1748,2720,3260,4072,0,0,0,0,172,444,697,851,1266,0,0,0,0,71,233,388,474,790,0,0,0,0,25,99,210,255,438]],\"type\":\"heatmap\",\"xaxis\":\"x\",\"yaxis\":\"y\",\"hovertemplate\":\"x: %{x}<br>y: %{y}<br>color: %{z}<extra></extra>\"}],                        {\"template\":{\"data\":{\"histogram2dcontour\":[{\"type\":\"histogram2dcontour\",\"colorbar\":{\"outlinewidth\":0,\"ticks\":\"\"},\"colorscale\":[[0.0,\"#0d0887\"],[0.1111111111111111,\"#46039f\"],[0.2222222222222222,\"#7201a8\"],[0.3333333333333333,\"#9c179e\"],[0.4444444444444444,\"#bd3786\"],[0.5555555555555556,\"#d8576b\"],[0.6666666666666666,\"#ed7953\"],[0.7777777777777778,\"#fb9f3a\"],[0.8888888888888888,\"#fdca26\"],[1.0,\"#f0f921\"]]}],\"choropleth\":[{\"type\":\"choropleth\",\"colorbar\":{\"outlinewidth\":0,\"ticks\":\"\"}}],\"histogram2d\":[{\"type\":\"histogram2d\",\"colorbar\":{\"outlinewidth\":0,\"ticks\":\"\"},\"colorscale\":[[0.0,\"#0d0887\"],[0.1111111111111111,\"#46039f\"],[0.2222222222222222,\"#7201a8\"],[0.3333333333333333,\"#9c179e\"],[0.4444444444444444,\"#bd3786\"],[0.5555555555555556,\"#d8576b\"],[0.6666666666666666,\"#ed7953\"],[0.7777777777777778,\"#fb9f3a\"],[0.8888888888888888,\"#fdca26\"],[1.0,\"#f0f921\"]]}],\"heatmap\":[{\"type\":\"heatmap\",\"colorbar\":{\"outlinewidth\":0,\"ticks\":\"\"},\"colorscale\":[[0.0,\"#0d0887\"],[0.1111111111111111,\"#46039f\"],[0.2222222222222222,\"#7201a8\"],[0.3333333333333333,\"#9c179e\"],[0.4444444444444444,\"#bd3786\"],[0.5555555555555556,\"#d8576b\"],[0.6666666666666666,\"#ed7953\"],[0.7777777777777778,\"#fb9f3a\"],[0.8888888888888888,\"#fdca26\"],[1.0,\"#f0f921\"]]}],\"heatmapgl\":[{\"type\":\"heatmapgl\",\"colorbar\":{\"outlinewidth\":0,\"ticks\":\"\"},\"colorscale\":[[0.0,\"#0d0887\"],[0.1111111111111111,\"#46039f\"],[0.2222222222222222,\"#7201a8\"],[0.3333333333333333,\"#9c179e\"],[0.4444444444444444,\"#bd3786\"],[0.5555555555555556,\"#d8576b\"],[0.6666666666666666,\"#ed7953\"],[0.7777777777777778,\"#fb9f3a\"],[0.8888888888888888,\"#fdca26\"],[1.0,\"#f0f921\"]]}],\"contourcarpet\":[{\"type\":\"contourcarpet\",\"colorbar\":{\"outlinewidth\":0,\"ticks\":\"\"}}],\"contour\":[{\"type\":\"contour\",\"colorbar\":{\"outlinewidth\":0,\"ticks\":\"\"},\"colorscale\":[[0.0,\"#0d0887\"],[0.1111111111111111,\"#46039f\"],[0.2222222222222222,\"#7201a8\"],[0.3333333333333333,\"#9c179e\"],[0.4444444444444444,\"#bd3786\"],[0.5555555555555556,\"#d8576b\"],[0.6666666666666666,\"#ed7953\"],[0.7777777777777778,\"#fb9f3a\"],[0.8888888888888888,\"#fdca26\"],[1.0,\"#f0f921\"]]}],\"surface\":[{\"type\":\"surface\",\"colorbar\":{\"outlinewidth\":0,\"ticks\":\"\"},\"colorscale\":[[0.0,\"#0d0887\"],[0.1111111111111111,\"#46039f\"],[0.2222222222222222,\"#7201a8\"],[0.3333333333333333,\"#9c179e\"],[0.4444444444444444,\"#bd3786\"],[0.5555555555555556,\"#d8576b\"],[0.6666666666666666,\"#ed7953\"],[0.7777777777777778,\"#fb9f3a\"],[0.8888888888888888,\"#fdca26\"],[1.0,\"#f0f921\"]]}],\"mesh3d\":[{\"type\":\"mesh3d\",\"colorbar\":{\"outlinewidth\":0,\"ticks\":\"\"}}],\"scatter\":[{\"fillpattern\":{\"fillmode\":\"overlay\",\"size\":10,\"solidity\":0.2},\"type\":\"scatter\"}],\"parcoords\":[{\"type\":\"parcoords\",\"line\":{\"colorbar\":{\"outlinewidth\":0,\"ticks\":\"\"}}}],\"scatterpolargl\":[{\"type\":\"scatterpolargl\",\"marker\":{\"colorbar\":{\"outlinewidth\":0,\"ticks\":\"\"}}}],\"bar\":[{\"error_x\":{\"color\":\"#2a3f5f\"},\"error_y\":{\"color\":\"#2a3f5f\"},\"marker\":{\"line\":{\"color\":\"#E5ECF6\",\"width\":0.5},\"pattern\":{\"fillmode\":\"overlay\",\"size\":10,\"solidity\":0.2}},\"type\":\"bar\"}],\"scattergeo\":[{\"type\":\"scattergeo\",\"marker\":{\"colorbar\":{\"outlinewidth\":0,\"ticks\":\"\"}}}],\"scatterpolar\":[{\"type\":\"scatterpolar\",\"marker\":{\"colorbar\":{\"outlinewidth\":0,\"ticks\":\"\"}}}],\"histogram\":[{\"marker\":{\"pattern\":{\"fillmode\":\"overlay\",\"size\":10,\"solidity\":0.2}},\"type\":\"histogram\"}],\"scattergl\":[{\"type\":\"scattergl\",\"marker\":{\"colorbar\":{\"outlinewidth\":0,\"ticks\":\"\"}}}],\"scatter3d\":[{\"type\":\"scatter3d\",\"line\":{\"colorbar\":{\"outlinewidth\":0,\"ticks\":\"\"}},\"marker\":{\"colorbar\":{\"outlinewidth\":0,\"ticks\":\"\"}}}],\"scattermapbox\":[{\"type\":\"scattermapbox\",\"marker\":{\"colorbar\":{\"outlinewidth\":0,\"ticks\":\"\"}}}],\"scatterternary\":[{\"type\":\"scatterternary\",\"marker\":{\"colorbar\":{\"outlinewidth\":0,\"ticks\":\"\"}}}],\"scattercarpet\":[{\"type\":\"scattercarpet\",\"marker\":{\"colorbar\":{\"outlinewidth\":0,\"ticks\":\"\"}}}],\"carpet\":[{\"aaxis\":{\"endlinecolor\":\"#2a3f5f\",\"gridcolor\":\"white\",\"linecolor\":\"white\",\"minorgridcolor\":\"white\",\"startlinecolor\":\"#2a3f5f\"},\"baxis\":{\"endlinecolor\":\"#2a3f5f\",\"gridcolor\":\"white\",\"linecolor\":\"white\",\"minorgridcolor\":\"white\",\"startlinecolor\":\"#2a3f5f\"},\"type\":\"carpet\"}],\"table\":[{\"cells\":{\"fill\":{\"color\":\"#EBF0F8\"},\"line\":{\"color\":\"white\"}},\"header\":{\"fill\":{\"color\":\"#C8D4E3\"},\"line\":{\"color\":\"white\"}},\"type\":\"table\"}],\"barpolar\":[{\"marker\":{\"line\":{\"color\":\"#E5ECF6\",\"width\":0.5},\"pattern\":{\"fillmode\":\"overlay\",\"size\":10,\"solidity\":0.2}},\"type\":\"barpolar\"}],\"pie\":[{\"automargin\":true,\"type\":\"pie\"}]},\"layout\":{\"autotypenumbers\":\"strict\",\"colorway\":[\"#636efa\",\"#EF553B\",\"#00cc96\",\"#ab63fa\",\"#FFA15A\",\"#19d3f3\",\"#FF6692\",\"#B6E880\",\"#FF97FF\",\"#FECB52\"],\"font\":{\"color\":\"#2a3f5f\"},\"hovermode\":\"closest\",\"hoverlabel\":{\"align\":\"left\"},\"paper_bgcolor\":\"white\",\"plot_bgcolor\":\"#E5ECF6\",\"polar\":{\"bgcolor\":\"#E5ECF6\",\"angularaxis\":{\"gridcolor\":\"white\",\"linecolor\":\"white\",\"ticks\":\"\"},\"radialaxis\":{\"gridcolor\":\"white\",\"linecolor\":\"white\",\"ticks\":\"\"}},\"ternary\":{\"bgcolor\":\"#E5ECF6\",\"aaxis\":{\"gridcolor\":\"white\",\"linecolor\":\"white\",\"ticks\":\"\"},\"baxis\":{\"gridcolor\":\"white\",\"linecolor\":\"white\",\"ticks\":\"\"},\"caxis\":{\"gridcolor\":\"white\",\"linecolor\":\"white\",\"ticks\":\"\"}},\"coloraxis\":{\"colorbar\":{\"outlinewidth\":0,\"ticks\":\"\"}},\"colorscale\":{\"sequential\":[[0.0,\"#0d0887\"],[0.1111111111111111,\"#46039f\"],[0.2222222222222222,\"#7201a8\"],[0.3333333333333333,\"#9c179e\"],[0.4444444444444444,\"#bd3786\"],[0.5555555555555556,\"#d8576b\"],[0.6666666666666666,\"#ed7953\"],[0.7777777777777778,\"#fb9f3a\"],[0.8888888888888888,\"#fdca26\"],[1.0,\"#f0f921\"]],\"sequentialminus\":[[0.0,\"#0d0887\"],[0.1111111111111111,\"#46039f\"],[0.2222222222222222,\"#7201a8\"],[0.3333333333333333,\"#9c179e\"],[0.4444444444444444,\"#bd3786\"],[0.5555555555555556,\"#d8576b\"],[0.6666666666666666,\"#ed7953\"],[0.7777777777777778,\"#fb9f3a\"],[0.8888888888888888,\"#fdca26\"],[1.0,\"#f0f921\"]],\"diverging\":[[0,\"#8e0152\"],[0.1,\"#c51b7d\"],[0.2,\"#de77ae\"],[0.3,\"#f1b6da\"],[0.4,\"#fde0ef\"],[0.5,\"#f7f7f7\"],[0.6,\"#e6f5d0\"],[0.7,\"#b8e186\"],[0.8,\"#7fbc41\"],[0.9,\"#4d9221\"],[1,\"#276419\"]]},\"xaxis\":{\"gridcolor\":\"white\",\"linecolor\":\"white\",\"ticks\":\"\",\"title\":{\"standoff\":15},\"zerolinecolor\":\"white\",\"automargin\":true,\"zerolinewidth\":2},\"yaxis\":{\"gridcolor\":\"white\",\"linecolor\":\"white\",\"ticks\":\"\",\"title\":{\"standoff\":15},\"zerolinecolor\":\"white\",\"automargin\":true,\"zerolinewidth\":2},\"scene\":{\"xaxis\":{\"backgroundcolor\":\"#E5ECF6\",\"gridcolor\":\"white\",\"linecolor\":\"white\",\"showbackground\":true,\"ticks\":\"\",\"zerolinecolor\":\"white\",\"gridwidth\":2},\"yaxis\":{\"backgroundcolor\":\"#E5ECF6\",\"gridcolor\":\"white\",\"linecolor\":\"white\",\"showbackground\":true,\"ticks\":\"\",\"zerolinecolor\":\"white\",\"gridwidth\":2},\"zaxis\":{\"backgroundcolor\":\"#E5ECF6\",\"gridcolor\":\"white\",\"linecolor\":\"white\",\"showbackground\":true,\"ticks\":\"\",\"zerolinecolor\":\"white\",\"gridwidth\":2}},\"shapedefaults\":{\"line\":{\"color\":\"#2a3f5f\"}},\"annotationdefaults\":{\"arrowcolor\":\"#2a3f5f\",\"arrowhead\":0,\"arrowwidth\":1},\"geo\":{\"bgcolor\":\"white\",\"landcolor\":\"#E5ECF6\",\"subunitcolor\":\"white\",\"showland\":true,\"showlakes\":true,\"lakecolor\":\"white\"},\"title\":{\"x\":0.05},\"mapbox\":{\"style\":\"light\"}}},\"xaxis\":{\"anchor\":\"y\",\"domain\":[0.0,1.0],\"scaleanchor\":\"y\",\"constrain\":\"domain\"},\"yaxis\":{\"anchor\":\"x\",\"domain\":[0.0,1.0],\"autorange\":\"reversed\",\"constrain\":\"domain\"},\"coloraxis\":{\"colorscale\":[[0.0,\"#0d0887\"],[0.1111111111111111,\"#46039f\"],[0.2222222222222222,\"#7201a8\"],[0.3333333333333333,\"#9c179e\"],[0.4444444444444444,\"#bd3786\"],[0.5555555555555556,\"#d8576b\"],[0.6666666666666666,\"#ed7953\"],[0.7777777777777778,\"#fb9f3a\"],[0.8888888888888888,\"#fdca26\"],[1.0,\"#f0f921\"]]},\"margin\":{\"t\":60}},                        {\"responsive\": true}                    ).then(function(){\n",
       "                            \n",
       "var gd = document.getElementById('1286c146-d506-47be-a109-bd283bfa6618');\n",
       "var x = new MutationObserver(function (mutations, observer) {{\n",
       "        var display = window.getComputedStyle(gd).display;\n",
       "        if (!display || display === 'none') {{\n",
       "            console.log([gd, 'removed!']);\n",
       "            Plotly.purge(gd);\n",
       "            observer.disconnect();\n",
       "        }}\n",
       "}});\n",
       "\n",
       "// Listen for the removal of the full notebook cells\n",
       "var notebookContainer = gd.closest('#notebook-container');\n",
       "if (notebookContainer) {{\n",
       "    x.observe(notebookContainer, {childList: true});\n",
       "}}\n",
       "\n",
       "// Listen for the clearing of the current output cell\n",
       "var outputEl = gd.closest('.output');\n",
       "if (outputEl) {{\n",
       "    x.observe(outputEl, {childList: true});\n",
       "}}\n",
       "\n",
       "                        })                };                });            </script>        </div>"
      ]
     },
     "metadata": {},
     "output_type": "display_data"
    }
   ],
   "source": [
    "df_matrix = pd.DataFrame.from_dict(result).T\n",
    "matrix = df_matrix.to_numpy()\n",
    "\n",
    "fig = px.imshow(matrix.T)\n",
    "fig.show()"
   ]
  },
  {
   "cell_type": "code",
   "execution_count": 116,
   "id": "eea16438-bee9-43a5-bb1d-1ce201394170",
   "metadata": {},
   "outputs": [
    {
     "data": {
      "text/plain": [
       "{'min_txns': 100, 'timeframe': 90, 'num_active': 816}"
      ]
     },
     "execution_count": 116,
     "metadata": {},
     "output_type": "execute_result"
    }
   ],
   "source": [
    "result[90, 100]"
   ]
  },
  {
   "cell_type": "code",
   "execution_count": 376,
   "id": "b7086371-86df-4113-8c57-fed2905c1811",
   "metadata": {},
   "outputs": [
    {
     "ename": "KeyError",
     "evalue": "'num_active'",
     "output_type": "error",
     "traceback": [
      "\u001b[0;31m---------------------------------------------------------------------------\u001b[0m",
      "\u001b[0;31mKeyError\u001b[0m                                  Traceback (most recent call last)",
      "File \u001b[0;32m~/anaconda3/envs/magic_env/lib/python3.10/site-packages/pandas/core/indexes/base.py:3621\u001b[0m, in \u001b[0;36mIndex.get_loc\u001b[0;34m(self, key, method, tolerance)\u001b[0m\n\u001b[1;32m   3620\u001b[0m \u001b[38;5;28;01mtry\u001b[39;00m:\n\u001b[0;32m-> 3621\u001b[0m     \u001b[38;5;28;01mreturn\u001b[39;00m \u001b[38;5;28;43mself\u001b[39;49m\u001b[38;5;241;43m.\u001b[39;49m\u001b[43m_engine\u001b[49m\u001b[38;5;241;43m.\u001b[39;49m\u001b[43mget_loc\u001b[49m\u001b[43m(\u001b[49m\u001b[43mcasted_key\u001b[49m\u001b[43m)\u001b[49m\n\u001b[1;32m   3622\u001b[0m \u001b[38;5;28;01mexcept\u001b[39;00m \u001b[38;5;167;01mKeyError\u001b[39;00m \u001b[38;5;28;01mas\u001b[39;00m err:\n",
      "File \u001b[0;32m~/anaconda3/envs/magic_env/lib/python3.10/site-packages/pandas/_libs/index.pyx:136\u001b[0m, in \u001b[0;36mpandas._libs.index.IndexEngine.get_loc\u001b[0;34m()\u001b[0m\n",
      "File \u001b[0;32m~/anaconda3/envs/magic_env/lib/python3.10/site-packages/pandas/_libs/index.pyx:144\u001b[0m, in \u001b[0;36mpandas._libs.index.IndexEngine.get_loc\u001b[0;34m()\u001b[0m\n",
      "File \u001b[0;32mpandas/_libs/index_class_helper.pxi:41\u001b[0m, in \u001b[0;36mpandas._libs.index.Int64Engine._check_type\u001b[0;34m()\u001b[0m\n",
      "\u001b[0;31mKeyError\u001b[0m: 'num_active'",
      "\nThe above exception was the direct cause of the following exception:\n",
      "\u001b[0;31mKeyError\u001b[0m                                  Traceback (most recent call last)",
      "Cell \u001b[0;32mIn [376], line 2\u001b[0m\n\u001b[1;32m      1\u001b[0m df_activity \u001b[38;5;241m=\u001b[39m pd\u001b[38;5;241m.\u001b[39mDataFrame\u001b[38;5;241m.\u001b[39mfrom_dict(result)\n\u001b[0;32m----> 2\u001b[0m mask \u001b[38;5;241m=\u001b[39m \u001b[43mdf_activity\u001b[49m\u001b[43m[\u001b[49m\u001b[38;5;124;43m'\u001b[39;49m\u001b[38;5;124;43mnum_active\u001b[39;49m\u001b[38;5;124;43m'\u001b[39;49m\u001b[43m]\u001b[49m\u001b[38;5;241m>\u001b[39m\u001b[38;5;241m0\u001b[39m\n\u001b[1;32m      3\u001b[0m df_activity[mask]\u001b[38;5;241m.\u001b[39mto_numpy()\n",
      "File \u001b[0;32m~/anaconda3/envs/magic_env/lib/python3.10/site-packages/pandas/core/frame.py:3504\u001b[0m, in \u001b[0;36mDataFrame.__getitem__\u001b[0;34m(self, key)\u001b[0m\n\u001b[1;32m   3502\u001b[0m \u001b[38;5;28;01mif\u001b[39;00m is_single_key:\n\u001b[1;32m   3503\u001b[0m     \u001b[38;5;28;01mif\u001b[39;00m \u001b[38;5;28mself\u001b[39m\u001b[38;5;241m.\u001b[39mcolumns\u001b[38;5;241m.\u001b[39mnlevels \u001b[38;5;241m>\u001b[39m \u001b[38;5;241m1\u001b[39m:\n\u001b[0;32m-> 3504\u001b[0m         \u001b[38;5;28;01mreturn\u001b[39;00m \u001b[38;5;28;43mself\u001b[39;49m\u001b[38;5;241;43m.\u001b[39;49m\u001b[43m_getitem_multilevel\u001b[49m\u001b[43m(\u001b[49m\u001b[43mkey\u001b[49m\u001b[43m)\u001b[49m\n\u001b[1;32m   3505\u001b[0m     indexer \u001b[38;5;241m=\u001b[39m \u001b[38;5;28mself\u001b[39m\u001b[38;5;241m.\u001b[39mcolumns\u001b[38;5;241m.\u001b[39mget_loc(key)\n\u001b[1;32m   3506\u001b[0m     \u001b[38;5;28;01mif\u001b[39;00m is_integer(indexer):\n",
      "File \u001b[0;32m~/anaconda3/envs/magic_env/lib/python3.10/site-packages/pandas/core/frame.py:3555\u001b[0m, in \u001b[0;36mDataFrame._getitem_multilevel\u001b[0;34m(self, key)\u001b[0m\n\u001b[1;32m   3553\u001b[0m \u001b[38;5;28;01mdef\u001b[39;00m \u001b[38;5;21m_getitem_multilevel\u001b[39m(\u001b[38;5;28mself\u001b[39m, key):\n\u001b[1;32m   3554\u001b[0m     \u001b[38;5;66;03m# self.columns is a MultiIndex\u001b[39;00m\n\u001b[0;32m-> 3555\u001b[0m     loc \u001b[38;5;241m=\u001b[39m \u001b[38;5;28;43mself\u001b[39;49m\u001b[38;5;241;43m.\u001b[39;49m\u001b[43mcolumns\u001b[49m\u001b[38;5;241;43m.\u001b[39;49m\u001b[43mget_loc\u001b[49m\u001b[43m(\u001b[49m\u001b[43mkey\u001b[49m\u001b[43m)\u001b[49m\n\u001b[1;32m   3556\u001b[0m     \u001b[38;5;28;01mif\u001b[39;00m \u001b[38;5;28misinstance\u001b[39m(loc, (\u001b[38;5;28mslice\u001b[39m, np\u001b[38;5;241m.\u001b[39mndarray)):\n\u001b[1;32m   3557\u001b[0m         new_columns \u001b[38;5;241m=\u001b[39m \u001b[38;5;28mself\u001b[39m\u001b[38;5;241m.\u001b[39mcolumns[loc]\n",
      "File \u001b[0;32m~/anaconda3/envs/magic_env/lib/python3.10/site-packages/pandas/core/indexes/multi.py:2869\u001b[0m, in \u001b[0;36mMultiIndex.get_loc\u001b[0;34m(self, key, method)\u001b[0m\n\u001b[1;32m   2866\u001b[0m     \u001b[38;5;28;01mreturn\u001b[39;00m mask\n\u001b[1;32m   2868\u001b[0m \u001b[38;5;28;01mif\u001b[39;00m \u001b[38;5;129;01mnot\u001b[39;00m \u001b[38;5;28misinstance\u001b[39m(key, \u001b[38;5;28mtuple\u001b[39m):\n\u001b[0;32m-> 2869\u001b[0m     loc \u001b[38;5;241m=\u001b[39m \u001b[38;5;28;43mself\u001b[39;49m\u001b[38;5;241;43m.\u001b[39;49m\u001b[43m_get_level_indexer\u001b[49m\u001b[43m(\u001b[49m\u001b[43mkey\u001b[49m\u001b[43m,\u001b[49m\u001b[43m \u001b[49m\u001b[43mlevel\u001b[49m\u001b[38;5;241;43m=\u001b[39;49m\u001b[38;5;241;43m0\u001b[39;49m\u001b[43m)\u001b[49m\n\u001b[1;32m   2870\u001b[0m     \u001b[38;5;28;01mreturn\u001b[39;00m _maybe_to_slice(loc)\n\u001b[1;32m   2872\u001b[0m keylen \u001b[38;5;241m=\u001b[39m \u001b[38;5;28mlen\u001b[39m(key)\n",
      "File \u001b[0;32m~/anaconda3/envs/magic_env/lib/python3.10/site-packages/pandas/core/indexes/multi.py:3222\u001b[0m, in \u001b[0;36mMultiIndex._get_level_indexer\u001b[0;34m(self, key, level, indexer)\u001b[0m\n\u001b[1;32m   3218\u001b[0m         \u001b[38;5;28;01mreturn\u001b[39;00m \u001b[38;5;28mslice\u001b[39m(i, j, step)\n\u001b[1;32m   3220\u001b[0m \u001b[38;5;28;01melse\u001b[39;00m:\n\u001b[0;32m-> 3222\u001b[0m     idx \u001b[38;5;241m=\u001b[39m \u001b[38;5;28;43mself\u001b[39;49m\u001b[38;5;241;43m.\u001b[39;49m\u001b[43m_get_loc_single_level_index\u001b[49m\u001b[43m(\u001b[49m\u001b[43mlevel_index\u001b[49m\u001b[43m,\u001b[49m\u001b[43m \u001b[49m\u001b[43mkey\u001b[49m\u001b[43m)\u001b[49m\n\u001b[1;32m   3224\u001b[0m     \u001b[38;5;28;01mif\u001b[39;00m level \u001b[38;5;241m>\u001b[39m \u001b[38;5;241m0\u001b[39m \u001b[38;5;129;01mor\u001b[39;00m \u001b[38;5;28mself\u001b[39m\u001b[38;5;241m.\u001b[39m_lexsort_depth \u001b[38;5;241m==\u001b[39m \u001b[38;5;241m0\u001b[39m:\n\u001b[1;32m   3225\u001b[0m         \u001b[38;5;66;03m# Desired level is not sorted\u001b[39;00m\n\u001b[1;32m   3226\u001b[0m         \u001b[38;5;28;01mif\u001b[39;00m \u001b[38;5;28misinstance\u001b[39m(idx, \u001b[38;5;28mslice\u001b[39m):\n\u001b[1;32m   3227\u001b[0m             \u001b[38;5;66;03m# test_get_loc_partial_timestamp_multiindex\u001b[39;00m\n",
      "File \u001b[0;32m~/anaconda3/envs/magic_env/lib/python3.10/site-packages/pandas/core/indexes/multi.py:2802\u001b[0m, in \u001b[0;36mMultiIndex._get_loc_single_level_index\u001b[0;34m(self, level_index, key)\u001b[0m\n\u001b[1;32m   2800\u001b[0m     \u001b[38;5;28;01mreturn\u001b[39;00m \u001b[38;5;241m-\u001b[39m\u001b[38;5;241m1\u001b[39m\n\u001b[1;32m   2801\u001b[0m \u001b[38;5;28;01melse\u001b[39;00m:\n\u001b[0;32m-> 2802\u001b[0m     \u001b[38;5;28;01mreturn\u001b[39;00m \u001b[43mlevel_index\u001b[49m\u001b[38;5;241;43m.\u001b[39;49m\u001b[43mget_loc\u001b[49m\u001b[43m(\u001b[49m\u001b[43mkey\u001b[49m\u001b[43m)\u001b[49m\n",
      "File \u001b[0;32m~/anaconda3/envs/magic_env/lib/python3.10/site-packages/pandas/core/indexes/base.py:3623\u001b[0m, in \u001b[0;36mIndex.get_loc\u001b[0;34m(self, key, method, tolerance)\u001b[0m\n\u001b[1;32m   3621\u001b[0m     \u001b[38;5;28;01mreturn\u001b[39;00m \u001b[38;5;28mself\u001b[39m\u001b[38;5;241m.\u001b[39m_engine\u001b[38;5;241m.\u001b[39mget_loc(casted_key)\n\u001b[1;32m   3622\u001b[0m \u001b[38;5;28;01mexcept\u001b[39;00m \u001b[38;5;167;01mKeyError\u001b[39;00m \u001b[38;5;28;01mas\u001b[39;00m err:\n\u001b[0;32m-> 3623\u001b[0m     \u001b[38;5;28;01mraise\u001b[39;00m \u001b[38;5;167;01mKeyError\u001b[39;00m(key) \u001b[38;5;28;01mfrom\u001b[39;00m \u001b[38;5;21;01merr\u001b[39;00m\n\u001b[1;32m   3624\u001b[0m \u001b[38;5;28;01mexcept\u001b[39;00m \u001b[38;5;167;01mTypeError\u001b[39;00m:\n\u001b[1;32m   3625\u001b[0m     \u001b[38;5;66;03m# If we have a listlike key, _check_indexing_error will raise\u001b[39;00m\n\u001b[1;32m   3626\u001b[0m     \u001b[38;5;66;03m#  InvalidIndexError. Otherwise we fall through and re-raise\u001b[39;00m\n\u001b[1;32m   3627\u001b[0m     \u001b[38;5;66;03m#  the TypeError.\u001b[39;00m\n\u001b[1;32m   3628\u001b[0m     \u001b[38;5;28mself\u001b[39m\u001b[38;5;241m.\u001b[39m_check_indexing_error(key)\n",
      "\u001b[0;31mKeyError\u001b[0m: 'num_active'"
     ]
    }
   ],
   "source": [
    "df_activity = pd.DataFrame.from_dict(result)\n",
    "mask = df_activity['num_active']>0\n",
    "df_activity[mask].to_numpy()"
   ]
  },
  {
   "cell_type": "code",
   "execution_count": 110,
   "id": "1060f164-89b2-4d00-97fa-1091ea2f1f0c",
   "metadata": {},
   "outputs": [
    {
     "data": {
      "text/plain": [
       "1      Empty DataFrame\n",
       "Columns: [origin_from_address,...\n",
       "10     Empty DataFrame\n",
       "Columns: [origin_from_address,...\n",
       "50     Empty DataFrame\n",
       "Columns: [origin_from_address,...\n",
       "100    Empty DataFrame\n",
       "Columns: [origin_from_address,...\n",
       "200    Empty DataFrame\n",
       "Columns: [origin_from_address,...\n",
       "Name: dataframe, dtype: object"
      ]
     },
     "execution_count": 110,
     "metadata": {},
     "output_type": "execute_result"
    }
   ],
   "source": [
    "result['dataframe'][1]"
   ]
  },
  {
   "cell_type": "code",
   "execution_count": null,
   "id": "db99b895-6615-48ad-81b8-2db0021b40ea",
   "metadata": {},
   "outputs": [],
   "source": [
    "dfs = result"
   ]
  },
  {
   "cell_type": "markdown",
   "id": "f3eb52ff-a0a0-49b1-a192-99704c925deb",
   "metadata": {},
   "source": [
    "# Keep the Addresses of the active Users\n",
    "---"
   ]
  },
  {
   "cell_type": "code",
   "execution_count": 401,
   "id": "aa3095c9-841c-495e-927a-9460084682df",
   "metadata": {},
   "outputs": [],
   "source": [
    "def activity_filteredByDateAndTxns(_df, date_list, tx_min_list):\n",
    "    # \n",
    "    if _df == 'Get New':\n",
    "        df = get_magicTransfers()\n",
    "    else:\n",
    "        df = _df\n",
    "    interactions_date_filtered = dict()    \n",
    "    god = dict()\n",
    "    \n",
    "    df['date'] = pd.to_datetime(df['block_timestamp']).dt.date\n",
    "    df_test = df[['date', 'tx_hash', 'origin_from_address', 'amount']]\n",
    "    \n",
    "    dm_list = []\n",
    "    for date_item in date_list:\n",
    "        dft=pd.DataFrame()\n",
    "        filter_time = date_item\n",
    "        date_mask = df_test['date'] > date.today() - pd.Timedelta(days=filter_time)\n",
    "        dft_date = df_test[date_mask].copy()\n",
    "        \n",
    "        dft=dft_date.groupby('origin_from_address')['tx_hash'].count().reset_index()\n",
    "        \n",
    "        dft['interval_filter']=date_item\n",
    "        \n",
    "        for tx_min in tx_min_list:\n",
    "            mask = dft['tx_hash']>=tx_min\n",
    "            masked_df =dft[mask]\n",
    "            \n",
    "            address_list = np.array(((masked_df['origin_from_address'].unique())))\n",
    "            num_active = len(address_list)\n",
    "            \n",
    "            god.update({(tx_min, date_item) : {'num_active': num_active, 'addresses': address_list}})\n",
    "    \n",
    "    return pd.DataFrame(god).T\n",
    "\n",
    "#         interactions_date_filtered.update({date_item:dft})\n",
    "#         dm_list.append(\n",
    "        \n",
    "#         num_active_list = {}\n",
    "        \n",
    "#     for tx_min in tx_min_list:\n",
    "#         print(f'---------------------Min # Txns: {tx_min}------------------\\n')\n",
    "#         for k in interactions_date_filtered:\n",
    "#             print(f'# Days:{k}\\nMin Txns:{tx_min}------------------\\n')\n",
    "#             dm=interactions_date_filtered[k]\n",
    "#             tx_min_filter = dm['tx_hash'] >= tx_min\n",
    "#             active_accounts = dm[tx_min_filter]\n",
    "#             num_active = len(set(active_accounts['origin_from_address'].values))\n",
    "            \n",
    "#             # print(f'Updating god with: {k} and {tx_min}')\n",
    "#             god.update({(k, tx_min) : {'min_txns': tx_min, 'timeframe': k, 'num_active':num_active}})\n",
    "#     print('We have god!')\n",
    "#     print(god)\n",
    "#     return god\n",
    "            \n",
    "            \n",
    "            \n",
    "            \n",
    "            \n",
    "            \n",
    "            \n",
    "#         for dm in dm_list:\n",
    "#             tx_min_filter = dm['tx_hash'] >= tx_min\n",
    "#             active_accounts = dft_date[tx_filter].sort_values('tx_hash', ascending=False)\n",
    "#             num_active = len(set(active_accounts['origin_from_address'].values))\n",
    "            \n",
    "#             num_active_list = {():{'min_tx': \n",
    "            \n",
    "#             tx_mask_list.append(tx_min_filter)\n",
    "\n",
    "#     filter_time = 21\n",
    "#     tx_min = 10\n",
    "\n",
    "#     date_mask = (df['date'] > date.today() - pd.Timedelta(days=filter_time))\n",
    "#     dft_date = df[date_mask].groupby('origin_from_address')['tx_hash'].count().reset_index()\n",
    "\n",
    "#     dft_date\n",
    "\n",
    "#     tx_filter = dft_date['tx_hash'] >= tx_min\n",
    "#     active_accounts = dft_date[tx_filter].sort_values('tx_hash', ascending=False)\n",
    "#     active_accounts\n",
    "\n",
    "#     num_active = len(set(active_accounts['origin_from_address'].values))"
   ]
  },
  {
   "cell_type": "code",
   "execution_count": 228,
   "id": "4e219de8-f081-42ad-a08e-264a2da93bba",
   "metadata": {},
   "outputs": [
    {
     "name": "stdout",
     "output_type": "stream",
     "text": [
      "The code took 32.060693055042066 to execute\n"
     ]
    }
   ],
   "source": [
    "import timeit\n",
    "import numpy as np\n",
    "date_list = [14,30,90]\n",
    "tx_min_list = [1, 50, 100]\n",
    "\n",
    "first_timer =timeit.default_timer()\n",
    "result = activity_filteredByDateAndTxns('Get New', date_list, tx_min_list)\n",
    "second_timer =timeit.default_timer()\n",
    "\n",
    "code_time = second_timer - first_timer\n",
    "\n",
    "\n",
    "print(f'The code took {code_time} to execute')"
   ]
  },
  {
   "cell_type": "code",
   "execution_count": 257,
   "id": "a28f7378-019f-4a30-ad07-e3bd09e7f8b4",
   "metadata": {},
   "outputs": [
    {
     "data": {
      "text/html": [
       "<div>\n",
       "<style scoped>\n",
       "    .dataframe tbody tr th:only-of-type {\n",
       "        vertical-align: middle;\n",
       "    }\n",
       "\n",
       "    .dataframe tbody tr th {\n",
       "        vertical-align: top;\n",
       "    }\n",
       "\n",
       "    .dataframe thead tr th {\n",
       "        text-align: left;\n",
       "    }\n",
       "</style>\n",
       "<table border=\"1\" class=\"dataframe\">\n",
       "  <thead>\n",
       "    <tr>\n",
       "      <th></th>\n",
       "      <th>1</th>\n",
       "      <th>50</th>\n",
       "      <th>100</th>\n",
       "      <th>1</th>\n",
       "      <th>50</th>\n",
       "      <th>100</th>\n",
       "      <th>1</th>\n",
       "      <th>50</th>\n",
       "      <th>100</th>\n",
       "    </tr>\n",
       "    <tr>\n",
       "      <th></th>\n",
       "      <th>14</th>\n",
       "      <th>14</th>\n",
       "      <th>14</th>\n",
       "      <th>30</th>\n",
       "      <th>30</th>\n",
       "      <th>30</th>\n",
       "      <th>90</th>\n",
       "      <th>90</th>\n",
       "      <th>90</th>\n",
       "    </tr>\n",
       "  </thead>\n",
       "  <tbody>\n",
       "    <tr>\n",
       "      <th>num_active</th>\n",
       "      <td>597</td>\n",
       "      <td>7</td>\n",
       "      <td>1</td>\n",
       "      <td>46507</td>\n",
       "      <td>493</td>\n",
       "      <td>267</td>\n",
       "      <td>61594</td>\n",
       "      <td>1301</td>\n",
       "      <td>816</td>\n",
       "    </tr>\n",
       "    <tr>\n",
       "      <th>addresses</th>\n",
       "      <td>[0x008d3aad83462283a105fe590a42197864d0fb7c, 0...</td>\n",
       "      <td>[0x14b30b46ec4fa1a993806bd5dda4195c5a82353e, 0...</td>\n",
       "      <td>[0x3897eeff99435b115ccb975984ce2bba96c92679]</td>\n",
       "      <td>[0x0000000000000000000000000000000000000000, 0...</td>\n",
       "      <td>[0x008d3aad83462283a105fe590a42197864d0fb7c, 0...</td>\n",
       "      <td>[0x02736d5c8dcea65539993d143a3de90cebca9c3c, 0...</td>\n",
       "      <td>[0x0000000000000000000000000000000000000000, 0...</td>\n",
       "      <td>[0x000000000d71b31f9c460f26c45589ec91551969, 0...</td>\n",
       "      <td>[0x000000000d71b31f9c460f26c45589ec91551969, 0...</td>\n",
       "    </tr>\n",
       "  </tbody>\n",
       "</table>\n",
       "</div>"
      ],
      "text/plain": [
       "                                                          1    \\\n",
       "                                                           14   \n",
       "num_active                                                597   \n",
       "addresses   [0x008d3aad83462283a105fe590a42197864d0fb7c, 0...   \n",
       "\n",
       "                                                          50   \\\n",
       "                                                           14   \n",
       "num_active                                                  7   \n",
       "addresses   [0x14b30b46ec4fa1a993806bd5dda4195c5a82353e, 0...   \n",
       "\n",
       "                                                     100  \\\n",
       "                                                      14   \n",
       "num_active                                             1   \n",
       "addresses   [0x3897eeff99435b115ccb975984ce2bba96c92679]   \n",
       "\n",
       "                                                          1    \\\n",
       "                                                           30   \n",
       "num_active                                              46507   \n",
       "addresses   [0x0000000000000000000000000000000000000000, 0...   \n",
       "\n",
       "                                                          50   \\\n",
       "                                                           30   \n",
       "num_active                                                493   \n",
       "addresses   [0x008d3aad83462283a105fe590a42197864d0fb7c, 0...   \n",
       "\n",
       "                                                          100  \\\n",
       "                                                           30   \n",
       "num_active                                                267   \n",
       "addresses   [0x02736d5c8dcea65539993d143a3de90cebca9c3c, 0...   \n",
       "\n",
       "                                                          1    \\\n",
       "                                                           90   \n",
       "num_active                                              61594   \n",
       "addresses   [0x0000000000000000000000000000000000000000, 0...   \n",
       "\n",
       "                                                          50   \\\n",
       "                                                           90   \n",
       "num_active                                               1301   \n",
       "addresses   [0x000000000d71b31f9c460f26c45589ec91551969, 0...   \n",
       "\n",
       "                                                          100  \n",
       "                                                           90  \n",
       "num_active                                                816  \n",
       "addresses   [0x000000000d71b31f9c460f26c45589ec91551969, 0...  "
      ]
     },
     "execution_count": 257,
     "metadata": {},
     "output_type": "execute_result"
    }
   ],
   "source": [
    "pd.DataFrame(result)"
   ]
  },
  {
   "cell_type": "code",
   "execution_count": 263,
   "id": "72734f1c-b959-41b1-ae87-da992f30b7d8",
   "metadata": {},
   "outputs": [
    {
     "data": {
      "text/html": [
       "<div>\n",
       "<style scoped>\n",
       "    .dataframe tbody tr th:only-of-type {\n",
       "        vertical-align: middle;\n",
       "    }\n",
       "\n",
       "    .dataframe tbody tr th {\n",
       "        vertical-align: top;\n",
       "    }\n",
       "\n",
       "    .dataframe thead th {\n",
       "        text-align: right;\n",
       "    }\n",
       "</style>\n",
       "<table border=\"1\" class=\"dataframe\">\n",
       "  <thead>\n",
       "    <tr style=\"text-align: right;\">\n",
       "      <th></th>\n",
       "      <th></th>\n",
       "      <th>num_active</th>\n",
       "      <th>addresses</th>\n",
       "    </tr>\n",
       "  </thead>\n",
       "  <tbody>\n",
       "    <tr>\n",
       "      <th>1</th>\n",
       "      <th>14</th>\n",
       "      <td>597</td>\n",
       "      <td>[0x008d3aad83462283a105fe590a42197864d0fb7c, 0...</td>\n",
       "    </tr>\n",
       "    <tr>\n",
       "      <th>50</th>\n",
       "      <th>14</th>\n",
       "      <td>7</td>\n",
       "      <td>[0x14b30b46ec4fa1a993806bd5dda4195c5a82353e, 0...</td>\n",
       "    </tr>\n",
       "    <tr>\n",
       "      <th>100</th>\n",
       "      <th>14</th>\n",
       "      <td>1</td>\n",
       "      <td>[0x3897eeff99435b115ccb975984ce2bba96c92679]</td>\n",
       "    </tr>\n",
       "    <tr>\n",
       "      <th>1</th>\n",
       "      <th>30</th>\n",
       "      <td>46507</td>\n",
       "      <td>[0x0000000000000000000000000000000000000000, 0...</td>\n",
       "    </tr>\n",
       "    <tr>\n",
       "      <th>50</th>\n",
       "      <th>30</th>\n",
       "      <td>493</td>\n",
       "      <td>[0x008d3aad83462283a105fe590a42197864d0fb7c, 0...</td>\n",
       "    </tr>\n",
       "    <tr>\n",
       "      <th>100</th>\n",
       "      <th>30</th>\n",
       "      <td>267</td>\n",
       "      <td>[0x02736d5c8dcea65539993d143a3de90cebca9c3c, 0...</td>\n",
       "    </tr>\n",
       "    <tr>\n",
       "      <th>1</th>\n",
       "      <th>90</th>\n",
       "      <td>61594</td>\n",
       "      <td>[0x0000000000000000000000000000000000000000, 0...</td>\n",
       "    </tr>\n",
       "    <tr>\n",
       "      <th>50</th>\n",
       "      <th>90</th>\n",
       "      <td>1301</td>\n",
       "      <td>[0x000000000d71b31f9c460f26c45589ec91551969, 0...</td>\n",
       "    </tr>\n",
       "    <tr>\n",
       "      <th>100</th>\n",
       "      <th>90</th>\n",
       "      <td>816</td>\n",
       "      <td>[0x000000000d71b31f9c460f26c45589ec91551969, 0...</td>\n",
       "    </tr>\n",
       "  </tbody>\n",
       "</table>\n",
       "</div>"
      ],
      "text/plain": [
       "       num_active                                          addresses\n",
       "1   14        597  [0x008d3aad83462283a105fe590a42197864d0fb7c, 0...\n",
       "50  14          7  [0x14b30b46ec4fa1a993806bd5dda4195c5a82353e, 0...\n",
       "100 14          1       [0x3897eeff99435b115ccb975984ce2bba96c92679]\n",
       "1   30      46507  [0x0000000000000000000000000000000000000000, 0...\n",
       "50  30        493  [0x008d3aad83462283a105fe590a42197864d0fb7c, 0...\n",
       "100 30        267  [0x02736d5c8dcea65539993d143a3de90cebca9c3c, 0...\n",
       "1   90      61594  [0x0000000000000000000000000000000000000000, 0...\n",
       "50  90       1301  [0x000000000d71b31f9c460f26c45589ec91551969, 0...\n",
       "100 90        816  [0x000000000d71b31f9c460f26c45589ec91551969, 0..."
      ]
     },
     "execution_count": 263,
     "metadata": {},
     "output_type": "execute_result"
    }
   ],
   "source": [
    "funnel = pd.DataFrame(result).T\n",
    "funnel"
   ]
  },
  {
   "cell_type": "code",
   "execution_count": 293,
   "id": "f2d9f4ac-50fa-4e39-8f3b-163b735f768b",
   "metadata": {},
   "outputs": [],
   "source": [
    "# funnel.reset_index(inplace=True)\n",
    "no_filter = funnel.loc[1,:].reset_index()\n",
    "filter_50 = funnel.loc[50, :].reset_index()\n",
    "\n",
    "df1 = no_filter[['index', 'num_active']].to_dict()\n",
    "df2 = filter_50[['index', 'num_active']].to_dict()\n",
    "# dict_1 = no_filter.to_dict()\n",
    "# dict_2 = filter_50.to_dict()\n",
    "\n",
    "# dict_1"
   ]
  },
  {
   "cell_type": "markdown",
   "id": "95405da6-4b37-47e9-a0df-b02c23c08376",
   "metadata": {},
   "source": [
    "### Create a Funnel Plot"
   ]
  },
  {
   "cell_type": "code",
   "execution_count": 296,
   "id": "73cce163-5c45-4775-b8c0-91236888506a",
   "metadata": {},
   "outputs": [
    {
     "data": {
      "text/plain": [
       "0    14\n",
       "1    30\n",
       "2    90\n",
       "dtype: int64"
      ]
     },
     "execution_count": 296,
     "metadata": {},
     "output_type": "execute_result"
    }
   ],
   "source": [
    "\n",
    "# mask_date = funnel['level_1']==30\n",
    "# mask = mask_txn & mask_date\n",
    "\n",
    "pd.Series(df1['index'])\n",
    "# print(f'y: {y}\\nx: {x}')"
   ]
  },
  {
   "cell_type": "code",
   "execution_count": 372,
   "id": "430e3374-ea21-47be-ab34-f24e766570c5",
   "metadata": {},
   "outputs": [
    {
     "data": {
      "text/plain": [
       "{'level_0': {0: 0, 1: 1, 2: 2},\n",
       " 'index': {0: 14, 1: 30, 2: 90},\n",
       " 'num_active': {0: 597, 1: 46507, 2: 61594}}"
      ]
     },
     "execution_count": 372,
     "metadata": {},
     "output_type": "execute_result"
    }
   ],
   "source": [
    "df1"
   ]
  },
  {
   "cell_type": "code",
   "execution_count": 367,
   "id": "7cdafc61-6bcd-4df4-a598-5de61031105e",
   "metadata": {},
   "outputs": [
    {
     "data": {
      "text/plain": [
       "[61594, 46507, 597]"
      ]
     },
     "execution_count": 367,
     "metadata": {},
     "output_type": "execute_result"
    }
   ],
   "source": [
    "# np.array(df1['num_active'].items())\n",
    "dd= list(df1['num_active'].values()).reverse()\n",
    "list(reversed(list(df1['num_active'].values())))"
   ]
  },
  {
   "cell_type": "code",
   "execution_count": 366,
   "id": "10d107b9-4751-489e-9fe5-b052ad50b102",
   "metadata": {},
   "outputs": [],
   "source": [
    "dd"
   ]
  },
  {
   "cell_type": "code",
   "execution_count": 375,
   "id": "7912ea3a-6d73-404c-a3ed-c47b4b74cdfa",
   "metadata": {},
   "outputs": [
    {
     "data": {
      "application/vnd.plotly.v1+json": {
       "config": {
        "plotlyServerURL": "https://plot.ly"
       },
       "data": [
        {
         "type": "funnel",
         "x": [
          61594,
          46507,
          597
         ],
         "y": [
          597,
          46507,
          61594
         ]
        }
       ],
       "layout": {
        "autosize": true,
        "template": {
         "data": {
          "bar": [
           {
            "error_x": {
             "color": "#2a3f5f"
            },
            "error_y": {
             "color": "#2a3f5f"
            },
            "marker": {
             "line": {
              "color": "#E5ECF6",
              "width": 0.5
             },
             "pattern": {
              "fillmode": "overlay",
              "size": 10,
              "solidity": 0.2
             }
            },
            "type": "bar"
           }
          ],
          "barpolar": [
           {
            "marker": {
             "line": {
              "color": "#E5ECF6",
              "width": 0.5
             },
             "pattern": {
              "fillmode": "overlay",
              "size": 10,
              "solidity": 0.2
             }
            },
            "type": "barpolar"
           }
          ],
          "carpet": [
           {
            "aaxis": {
             "endlinecolor": "#2a3f5f",
             "gridcolor": "white",
             "linecolor": "white",
             "minorgridcolor": "white",
             "startlinecolor": "#2a3f5f"
            },
            "baxis": {
             "endlinecolor": "#2a3f5f",
             "gridcolor": "white",
             "linecolor": "white",
             "minorgridcolor": "white",
             "startlinecolor": "#2a3f5f"
            },
            "type": "carpet"
           }
          ],
          "choropleth": [
           {
            "colorbar": {
             "outlinewidth": 0,
             "ticks": ""
            },
            "type": "choropleth"
           }
          ],
          "contour": [
           {
            "colorbar": {
             "outlinewidth": 0,
             "ticks": ""
            },
            "colorscale": [
             [
              0,
              "#0d0887"
             ],
             [
              0.1111111111111111,
              "#46039f"
             ],
             [
              0.2222222222222222,
              "#7201a8"
             ],
             [
              0.3333333333333333,
              "#9c179e"
             ],
             [
              0.4444444444444444,
              "#bd3786"
             ],
             [
              0.5555555555555556,
              "#d8576b"
             ],
             [
              0.6666666666666666,
              "#ed7953"
             ],
             [
              0.7777777777777778,
              "#fb9f3a"
             ],
             [
              0.8888888888888888,
              "#fdca26"
             ],
             [
              1,
              "#f0f921"
             ]
            ],
            "type": "contour"
           }
          ],
          "contourcarpet": [
           {
            "colorbar": {
             "outlinewidth": 0,
             "ticks": ""
            },
            "type": "contourcarpet"
           }
          ],
          "heatmap": [
           {
            "colorbar": {
             "outlinewidth": 0,
             "ticks": ""
            },
            "colorscale": [
             [
              0,
              "#0d0887"
             ],
             [
              0.1111111111111111,
              "#46039f"
             ],
             [
              0.2222222222222222,
              "#7201a8"
             ],
             [
              0.3333333333333333,
              "#9c179e"
             ],
             [
              0.4444444444444444,
              "#bd3786"
             ],
             [
              0.5555555555555556,
              "#d8576b"
             ],
             [
              0.6666666666666666,
              "#ed7953"
             ],
             [
              0.7777777777777778,
              "#fb9f3a"
             ],
             [
              0.8888888888888888,
              "#fdca26"
             ],
             [
              1,
              "#f0f921"
             ]
            ],
            "type": "heatmap"
           }
          ],
          "heatmapgl": [
           {
            "colorbar": {
             "outlinewidth": 0,
             "ticks": ""
            },
            "colorscale": [
             [
              0,
              "#0d0887"
             ],
             [
              0.1111111111111111,
              "#46039f"
             ],
             [
              0.2222222222222222,
              "#7201a8"
             ],
             [
              0.3333333333333333,
              "#9c179e"
             ],
             [
              0.4444444444444444,
              "#bd3786"
             ],
             [
              0.5555555555555556,
              "#d8576b"
             ],
             [
              0.6666666666666666,
              "#ed7953"
             ],
             [
              0.7777777777777778,
              "#fb9f3a"
             ],
             [
              0.8888888888888888,
              "#fdca26"
             ],
             [
              1,
              "#f0f921"
             ]
            ],
            "type": "heatmapgl"
           }
          ],
          "histogram": [
           {
            "marker": {
             "pattern": {
              "fillmode": "overlay",
              "size": 10,
              "solidity": 0.2
             }
            },
            "type": "histogram"
           }
          ],
          "histogram2d": [
           {
            "colorbar": {
             "outlinewidth": 0,
             "ticks": ""
            },
            "colorscale": [
             [
              0,
              "#0d0887"
             ],
             [
              0.1111111111111111,
              "#46039f"
             ],
             [
              0.2222222222222222,
              "#7201a8"
             ],
             [
              0.3333333333333333,
              "#9c179e"
             ],
             [
              0.4444444444444444,
              "#bd3786"
             ],
             [
              0.5555555555555556,
              "#d8576b"
             ],
             [
              0.6666666666666666,
              "#ed7953"
             ],
             [
              0.7777777777777778,
              "#fb9f3a"
             ],
             [
              0.8888888888888888,
              "#fdca26"
             ],
             [
              1,
              "#f0f921"
             ]
            ],
            "type": "histogram2d"
           }
          ],
          "histogram2dcontour": [
           {
            "colorbar": {
             "outlinewidth": 0,
             "ticks": ""
            },
            "colorscale": [
             [
              0,
              "#0d0887"
             ],
             [
              0.1111111111111111,
              "#46039f"
             ],
             [
              0.2222222222222222,
              "#7201a8"
             ],
             [
              0.3333333333333333,
              "#9c179e"
             ],
             [
              0.4444444444444444,
              "#bd3786"
             ],
             [
              0.5555555555555556,
              "#d8576b"
             ],
             [
              0.6666666666666666,
              "#ed7953"
             ],
             [
              0.7777777777777778,
              "#fb9f3a"
             ],
             [
              0.8888888888888888,
              "#fdca26"
             ],
             [
              1,
              "#f0f921"
             ]
            ],
            "type": "histogram2dcontour"
           }
          ],
          "mesh3d": [
           {
            "colorbar": {
             "outlinewidth": 0,
             "ticks": ""
            },
            "type": "mesh3d"
           }
          ],
          "parcoords": [
           {
            "line": {
             "colorbar": {
              "outlinewidth": 0,
              "ticks": ""
             }
            },
            "type": "parcoords"
           }
          ],
          "pie": [
           {
            "automargin": true,
            "type": "pie"
           }
          ],
          "scatter": [
           {
            "fillpattern": {
             "fillmode": "overlay",
             "size": 10,
             "solidity": 0.2
            },
            "type": "scatter"
           }
          ],
          "scatter3d": [
           {
            "line": {
             "colorbar": {
              "outlinewidth": 0,
              "ticks": ""
             }
            },
            "marker": {
             "colorbar": {
              "outlinewidth": 0,
              "ticks": ""
             }
            },
            "type": "scatter3d"
           }
          ],
          "scattercarpet": [
           {
            "marker": {
             "colorbar": {
              "outlinewidth": 0,
              "ticks": ""
             }
            },
            "type": "scattercarpet"
           }
          ],
          "scattergeo": [
           {
            "marker": {
             "colorbar": {
              "outlinewidth": 0,
              "ticks": ""
             }
            },
            "type": "scattergeo"
           }
          ],
          "scattergl": [
           {
            "marker": {
             "colorbar": {
              "outlinewidth": 0,
              "ticks": ""
             }
            },
            "type": "scattergl"
           }
          ],
          "scattermapbox": [
           {
            "marker": {
             "colorbar": {
              "outlinewidth": 0,
              "ticks": ""
             }
            },
            "type": "scattermapbox"
           }
          ],
          "scatterpolar": [
           {
            "marker": {
             "colorbar": {
              "outlinewidth": 0,
              "ticks": ""
             }
            },
            "type": "scatterpolar"
           }
          ],
          "scatterpolargl": [
           {
            "marker": {
             "colorbar": {
              "outlinewidth": 0,
              "ticks": ""
             }
            },
            "type": "scatterpolargl"
           }
          ],
          "scatterternary": [
           {
            "marker": {
             "colorbar": {
              "outlinewidth": 0,
              "ticks": ""
             }
            },
            "type": "scatterternary"
           }
          ],
          "surface": [
           {
            "colorbar": {
             "outlinewidth": 0,
             "ticks": ""
            },
            "colorscale": [
             [
              0,
              "#0d0887"
             ],
             [
              0.1111111111111111,
              "#46039f"
             ],
             [
              0.2222222222222222,
              "#7201a8"
             ],
             [
              0.3333333333333333,
              "#9c179e"
             ],
             [
              0.4444444444444444,
              "#bd3786"
             ],
             [
              0.5555555555555556,
              "#d8576b"
             ],
             [
              0.6666666666666666,
              "#ed7953"
             ],
             [
              0.7777777777777778,
              "#fb9f3a"
             ],
             [
              0.8888888888888888,
              "#fdca26"
             ],
             [
              1,
              "#f0f921"
             ]
            ],
            "type": "surface"
           }
          ],
          "table": [
           {
            "cells": {
             "fill": {
              "color": "#EBF0F8"
             },
             "line": {
              "color": "white"
             }
            },
            "header": {
             "fill": {
              "color": "#C8D4E3"
             },
             "line": {
              "color": "white"
             }
            },
            "type": "table"
           }
          ]
         },
         "layout": {
          "annotationdefaults": {
           "arrowcolor": "#2a3f5f",
           "arrowhead": 0,
           "arrowwidth": 1
          },
          "autotypenumbers": "strict",
          "coloraxis": {
           "colorbar": {
            "outlinewidth": 0,
            "ticks": ""
           }
          },
          "colorscale": {
           "diverging": [
            [
             0,
             "#8e0152"
            ],
            [
             0.1,
             "#c51b7d"
            ],
            [
             0.2,
             "#de77ae"
            ],
            [
             0.3,
             "#f1b6da"
            ],
            [
             0.4,
             "#fde0ef"
            ],
            [
             0.5,
             "#f7f7f7"
            ],
            [
             0.6,
             "#e6f5d0"
            ],
            [
             0.7,
             "#b8e186"
            ],
            [
             0.8,
             "#7fbc41"
            ],
            [
             0.9,
             "#4d9221"
            ],
            [
             1,
             "#276419"
            ]
           ],
           "sequential": [
            [
             0,
             "#0d0887"
            ],
            [
             0.1111111111111111,
             "#46039f"
            ],
            [
             0.2222222222222222,
             "#7201a8"
            ],
            [
             0.3333333333333333,
             "#9c179e"
            ],
            [
             0.4444444444444444,
             "#bd3786"
            ],
            [
             0.5555555555555556,
             "#d8576b"
            ],
            [
             0.6666666666666666,
             "#ed7953"
            ],
            [
             0.7777777777777778,
             "#fb9f3a"
            ],
            [
             0.8888888888888888,
             "#fdca26"
            ],
            [
             1,
             "#f0f921"
            ]
           ],
           "sequentialminus": [
            [
             0,
             "#0d0887"
            ],
            [
             0.1111111111111111,
             "#46039f"
            ],
            [
             0.2222222222222222,
             "#7201a8"
            ],
            [
             0.3333333333333333,
             "#9c179e"
            ],
            [
             0.4444444444444444,
             "#bd3786"
            ],
            [
             0.5555555555555556,
             "#d8576b"
            ],
            [
             0.6666666666666666,
             "#ed7953"
            ],
            [
             0.7777777777777778,
             "#fb9f3a"
            ],
            [
             0.8888888888888888,
             "#fdca26"
            ],
            [
             1,
             "#f0f921"
            ]
           ]
          },
          "colorway": [
           "#636efa",
           "#EF553B",
           "#00cc96",
           "#ab63fa",
           "#FFA15A",
           "#19d3f3",
           "#FF6692",
           "#B6E880",
           "#FF97FF",
           "#FECB52"
          ],
          "font": {
           "color": "#2a3f5f"
          },
          "geo": {
           "bgcolor": "white",
           "lakecolor": "white",
           "landcolor": "#E5ECF6",
           "showlakes": true,
           "showland": true,
           "subunitcolor": "white"
          },
          "hoverlabel": {
           "align": "left"
          },
          "hovermode": "closest",
          "mapbox": {
           "style": "light"
          },
          "paper_bgcolor": "white",
          "plot_bgcolor": "#E5ECF6",
          "polar": {
           "angularaxis": {
            "gridcolor": "white",
            "linecolor": "white",
            "ticks": ""
           },
           "bgcolor": "#E5ECF6",
           "radialaxis": {
            "gridcolor": "white",
            "linecolor": "white",
            "ticks": ""
           }
          },
          "scene": {
           "xaxis": {
            "backgroundcolor": "#E5ECF6",
            "gridcolor": "white",
            "gridwidth": 2,
            "linecolor": "white",
            "showbackground": true,
            "ticks": "",
            "zerolinecolor": "white"
           },
           "yaxis": {
            "backgroundcolor": "#E5ECF6",
            "gridcolor": "white",
            "gridwidth": 2,
            "linecolor": "white",
            "showbackground": true,
            "ticks": "",
            "zerolinecolor": "white"
           },
           "zaxis": {
            "backgroundcolor": "#E5ECF6",
            "gridcolor": "white",
            "gridwidth": 2,
            "linecolor": "white",
            "showbackground": true,
            "ticks": "",
            "zerolinecolor": "white"
           }
          },
          "shapedefaults": {
           "line": {
            "color": "#2a3f5f"
           }
          },
          "ternary": {
           "aaxis": {
            "gridcolor": "white",
            "linecolor": "white",
            "ticks": ""
           },
           "baxis": {
            "gridcolor": "white",
            "linecolor": "white",
            "ticks": ""
           },
           "bgcolor": "#E5ECF6",
           "caxis": {
            "gridcolor": "white",
            "linecolor": "white",
            "ticks": ""
           }
          },
          "title": {
           "x": 0.05
          },
          "xaxis": {
           "automargin": true,
           "gridcolor": "white",
           "linecolor": "white",
           "ticks": "",
           "title": {
            "standoff": 15
           },
           "zerolinecolor": "white",
           "zerolinewidth": 2
          },
          "yaxis": {
           "automargin": true,
           "gridcolor": "white",
           "linecolor": "white",
           "ticks": "",
           "title": {
            "standoff": 15
           },
           "zerolinecolor": "white",
           "zerolinewidth": 2
          }
         }
        },
        "xaxis": {
         "autorange": true,
         "range": [
          -34218.88888888889,
          34218.88888888889
         ],
         "type": "linear"
        },
        "yaxis": {
         "autorange": true,
         "range": [
          69137.5,
          -6946.5
         ],
         "type": "linear"
        }
       }
      },
      "image/png": "[encoded data removed]",
      "text/html": [
       "<div>                            <div id=\"cdb13f89-3e1b-4c98-a002-0eead39bd49b\" class=\"plotly-graph-div\" style=\"height:525px; width:100%;\"></div>            <script type=\"text/javascript\">                require([\"plotly\"], function(Plotly) {                    window.PLOTLYENV=window.PLOTLYENV || {};                                    if (document.getElementById(\"cdb13f89-3e1b-4c98-a002-0eead39bd49b\")) {                    Plotly.newPlot(                        \"cdb13f89-3e1b-4c98-a002-0eead39bd49b\",                        [{\"x\":[61594,46507,597],\"y\":[597,46507,61594],\"type\":\"funnel\"}],                        {\"template\":{\"data\":{\"histogram2dcontour\":[{\"type\":\"histogram2dcontour\",\"colorbar\":{\"outlinewidth\":0,\"ticks\":\"\"},\"colorscale\":[[0.0,\"#0d0887\"],[0.1111111111111111,\"#46039f\"],[0.2222222222222222,\"#7201a8\"],[0.3333333333333333,\"#9c179e\"],[0.4444444444444444,\"#bd3786\"],[0.5555555555555556,\"#d8576b\"],[0.6666666666666666,\"#ed7953\"],[0.7777777777777778,\"#fb9f3a\"],[0.8888888888888888,\"#fdca26\"],[1.0,\"#f0f921\"]]}],\"choropleth\":[{\"type\":\"choropleth\",\"colorbar\":{\"outlinewidth\":0,\"ticks\":\"\"}}],\"histogram2d\":[{\"type\":\"histogram2d\",\"colorbar\":{\"outlinewidth\":0,\"ticks\":\"\"},\"colorscale\":[[0.0,\"#0d0887\"],[0.1111111111111111,\"#46039f\"],[0.2222222222222222,\"#7201a8\"],[0.3333333333333333,\"#9c179e\"],[0.4444444444444444,\"#bd3786\"],[0.5555555555555556,\"#d8576b\"],[0.6666666666666666,\"#ed7953\"],[0.7777777777777778,\"#fb9f3a\"],[0.8888888888888888,\"#fdca26\"],[1.0,\"#f0f921\"]]}],\"heatmap\":[{\"type\":\"heatmap\",\"colorbar\":{\"outlinewidth\":0,\"ticks\":\"\"},\"colorscale\":[[0.0,\"#0d0887\"],[0.1111111111111111,\"#46039f\"],[0.2222222222222222,\"#7201a8\"],[0.3333333333333333,\"#9c179e\"],[0.4444444444444444,\"#bd3786\"],[0.5555555555555556,\"#d8576b\"],[0.6666666666666666,\"#ed7953\"],[0.7777777777777778,\"#fb9f3a\"],[0.8888888888888888,\"#fdca26\"],[1.0,\"#f0f921\"]]}],\"heatmapgl\":[{\"type\":\"heatmapgl\",\"colorbar\":{\"outlinewidth\":0,\"ticks\":\"\"},\"colorscale\":[[0.0,\"#0d0887\"],[0.1111111111111111,\"#46039f\"],[0.2222222222222222,\"#7201a8\"],[0.3333333333333333,\"#9c179e\"],[0.4444444444444444,\"#bd3786\"],[0.5555555555555556,\"#d8576b\"],[0.6666666666666666,\"#ed7953\"],[0.7777777777777778,\"#fb9f3a\"],[0.8888888888888888,\"#fdca26\"],[1.0,\"#f0f921\"]]}],\"contourcarpet\":[{\"type\":\"contourcarpet\",\"colorbar\":{\"outlinewidth\":0,\"ticks\":\"\"}}],\"contour\":[{\"type\":\"contour\",\"colorbar\":{\"outlinewidth\":0,\"ticks\":\"\"},\"colorscale\":[[0.0,\"#0d0887\"],[0.1111111111111111,\"#46039f\"],[0.2222222222222222,\"#7201a8\"],[0.3333333333333333,\"#9c179e\"],[0.4444444444444444,\"#bd3786\"],[0.5555555555555556,\"#d8576b\"],[0.6666666666666666,\"#ed7953\"],[0.7777777777777778,\"#fb9f3a\"],[0.8888888888888888,\"#fdca26\"],[1.0,\"#f0f921\"]]}],\"surface\":[{\"type\":\"surface\",\"colorbar\":{\"outlinewidth\":0,\"ticks\":\"\"},\"colorscale\":[[0.0,\"#0d0887\"],[0.1111111111111111,\"#46039f\"],[0.2222222222222222,\"#7201a8\"],[0.3333333333333333,\"#9c179e\"],[0.4444444444444444,\"#bd3786\"],[0.5555555555555556,\"#d8576b\"],[0.6666666666666666,\"#ed7953\"],[0.7777777777777778,\"#fb9f3a\"],[0.8888888888888888,\"#fdca26\"],[1.0,\"#f0f921\"]]}],\"mesh3d\":[{\"type\":\"mesh3d\",\"colorbar\":{\"outlinewidth\":0,\"ticks\":\"\"}}],\"scatter\":[{\"fillpattern\":{\"fillmode\":\"overlay\",\"size\":10,\"solidity\":0.2},\"type\":\"scatter\"}],\"parcoords\":[{\"type\":\"parcoords\",\"line\":{\"colorbar\":{\"outlinewidth\":0,\"ticks\":\"\"}}}],\"scatterpolargl\":[{\"type\":\"scatterpolargl\",\"marker\":{\"colorbar\":{\"outlinewidth\":0,\"ticks\":\"\"}}}],\"bar\":[{\"error_x\":{\"color\":\"#2a3f5f\"},\"error_y\":{\"color\":\"#2a3f5f\"},\"marker\":{\"line\":{\"color\":\"#E5ECF6\",\"width\":0.5},\"pattern\":{\"fillmode\":\"overlay\",\"size\":10,\"solidity\":0.2}},\"type\":\"bar\"}],\"scattergeo\":[{\"type\":\"scattergeo\",\"marker\":{\"colorbar\":{\"outlinewidth\":0,\"ticks\":\"\"}}}],\"scatterpolar\":[{\"type\":\"scatterpolar\",\"marker\":{\"colorbar\":{\"outlinewidth\":0,\"ticks\":\"\"}}}],\"histogram\":[{\"marker\":{\"pattern\":{\"fillmode\":\"overlay\",\"size\":10,\"solidity\":0.2}},\"type\":\"histogram\"}],\"scattergl\":[{\"type\":\"scattergl\",\"marker\":{\"colorbar\":{\"outlinewidth\":0,\"ticks\":\"\"}}}],\"scatter3d\":[{\"type\":\"scatter3d\",\"line\":{\"colorbar\":{\"outlinewidth\":0,\"ticks\":\"\"}},\"marker\":{\"colorbar\":{\"outlinewidth\":0,\"ticks\":\"\"}}}],\"scattermapbox\":[{\"type\":\"scattermapbox\",\"marker\":{\"colorbar\":{\"outlinewidth\":0,\"ticks\":\"\"}}}],\"scatterternary\":[{\"type\":\"scatterternary\",\"marker\":{\"colorbar\":{\"outlinewidth\":0,\"ticks\":\"\"}}}],\"scattercarpet\":[{\"type\":\"scattercarpet\",\"marker\":{\"colorbar\":{\"outlinewidth\":0,\"ticks\":\"\"}}}],\"carpet\":[{\"aaxis\":{\"endlinecolor\":\"#2a3f5f\",\"gridcolor\":\"white\",\"linecolor\":\"white\",\"minorgridcolor\":\"white\",\"startlinecolor\":\"#2a3f5f\"},\"baxis\":{\"endlinecolor\":\"#2a3f5f\",\"gridcolor\":\"white\",\"linecolor\":\"white\",\"minorgridcolor\":\"white\",\"startlinecolor\":\"#2a3f5f\"},\"type\":\"carpet\"}],\"table\":[{\"cells\":{\"fill\":{\"color\":\"#EBF0F8\"},\"line\":{\"color\":\"white\"}},\"header\":{\"fill\":{\"color\":\"#C8D4E3\"},\"line\":{\"color\":\"white\"}},\"type\":\"table\"}],\"barpolar\":[{\"marker\":{\"line\":{\"color\":\"#E5ECF6\",\"width\":0.5},\"pattern\":{\"fillmode\":\"overlay\",\"size\":10,\"solidity\":0.2}},\"type\":\"barpolar\"}],\"pie\":[{\"automargin\":true,\"type\":\"pie\"}]},\"layout\":{\"autotypenumbers\":\"strict\",\"colorway\":[\"#636efa\",\"#EF553B\",\"#00cc96\",\"#ab63fa\",\"#FFA15A\",\"#19d3f3\",\"#FF6692\",\"#B6E880\",\"#FF97FF\",\"#FECB52\"],\"font\":{\"color\":\"#2a3f5f\"},\"hovermode\":\"closest\",\"hoverlabel\":{\"align\":\"left\"},\"paper_bgcolor\":\"white\",\"plot_bgcolor\":\"#E5ECF6\",\"polar\":{\"bgcolor\":\"#E5ECF6\",\"angularaxis\":{\"gridcolor\":\"white\",\"linecolor\":\"white\",\"ticks\":\"\"},\"radialaxis\":{\"gridcolor\":\"white\",\"linecolor\":\"white\",\"ticks\":\"\"}},\"ternary\":{\"bgcolor\":\"#E5ECF6\",\"aaxis\":{\"gridcolor\":\"white\",\"linecolor\":\"white\",\"ticks\":\"\"},\"baxis\":{\"gridcolor\":\"white\",\"linecolor\":\"white\",\"ticks\":\"\"},\"caxis\":{\"gridcolor\":\"white\",\"linecolor\":\"white\",\"ticks\":\"\"}},\"coloraxis\":{\"colorbar\":{\"outlinewidth\":0,\"ticks\":\"\"}},\"colorscale\":{\"sequential\":[[0.0,\"#0d0887\"],[0.1111111111111111,\"#46039f\"],[0.2222222222222222,\"#7201a8\"],[0.3333333333333333,\"#9c179e\"],[0.4444444444444444,\"#bd3786\"],[0.5555555555555556,\"#d8576b\"],[0.6666666666666666,\"#ed7953\"],[0.7777777777777778,\"#fb9f3a\"],[0.8888888888888888,\"#fdca26\"],[1.0,\"#f0f921\"]],\"sequentialminus\":[[0.0,\"#0d0887\"],[0.1111111111111111,\"#46039f\"],[0.2222222222222222,\"#7201a8\"],[0.3333333333333333,\"#9c179e\"],[0.4444444444444444,\"#bd3786\"],[0.5555555555555556,\"#d8576b\"],[0.6666666666666666,\"#ed7953\"],[0.7777777777777778,\"#fb9f3a\"],[0.8888888888888888,\"#fdca26\"],[1.0,\"#f0f921\"]],\"diverging\":[[0,\"#8e0152\"],[0.1,\"#c51b7d\"],[0.2,\"#de77ae\"],[0.3,\"#f1b6da\"],[0.4,\"#fde0ef\"],[0.5,\"#f7f7f7\"],[0.6,\"#e6f5d0\"],[0.7,\"#b8e186\"],[0.8,\"#7fbc41\"],[0.9,\"#4d9221\"],[1,\"#276419\"]]},\"xaxis\":{\"gridcolor\":\"white\",\"linecolor\":\"white\",\"ticks\":\"\",\"title\":{\"standoff\":15},\"zerolinecolor\":\"white\",\"automargin\":true,\"zerolinewidth\":2},\"yaxis\":{\"gridcolor\":\"white\",\"linecolor\":\"white\",\"ticks\":\"\",\"title\":{\"standoff\":15},\"zerolinecolor\":\"white\",\"automargin\":true,\"zerolinewidth\":2},\"scene\":{\"xaxis\":{\"backgroundcolor\":\"#E5ECF6\",\"gridcolor\":\"white\",\"linecolor\":\"white\",\"showbackground\":true,\"ticks\":\"\",\"zerolinecolor\":\"white\",\"gridwidth\":2},\"yaxis\":{\"backgroundcolor\":\"#E5ECF6\",\"gridcolor\":\"white\",\"linecolor\":\"white\",\"showbackground\":true,\"ticks\":\"\",\"zerolinecolor\":\"white\",\"gridwidth\":2},\"zaxis\":{\"backgroundcolor\":\"#E5ECF6\",\"gridcolor\":\"white\",\"linecolor\":\"white\",\"showbackground\":true,\"ticks\":\"\",\"zerolinecolor\":\"white\",\"gridwidth\":2}},\"shapedefaults\":{\"line\":{\"color\":\"#2a3f5f\"}},\"annotationdefaults\":{\"arrowcolor\":\"#2a3f5f\",\"arrowhead\":0,\"arrowwidth\":1},\"geo\":{\"bgcolor\":\"white\",\"landcolor\":\"#E5ECF6\",\"subunitcolor\":\"white\",\"showland\":true,\"showlakes\":true,\"lakecolor\":\"white\"},\"title\":{\"x\":0.05},\"mapbox\":{\"style\":\"light\"}}}},                        {\"responsive\": true}                    ).then(function(){\n",
       "                            \n",
       "var gd = document.getElementById('cdb13f89-3e1b-4c98-a002-0eead39bd49b');\n",
       "var x = new MutationObserver(function (mutations, observer) {{\n",
       "        var display = window.getComputedStyle(gd).display;\n",
       "        if (!display || display === 'none') {{\n",
       "            console.log([gd, 'removed!']);\n",
       "            Plotly.purge(gd);\n",
       "            observer.disconnect();\n",
       "        }}\n",
       "}});\n",
       "\n",
       "// Listen for the removal of the full notebook cells\n",
       "var notebookContainer = gd.closest('#notebook-container');\n",
       "if (notebookContainer) {{\n",
       "    x.observe(notebookContainer, {childList: true});\n",
       "}}\n",
       "\n",
       "// Listen for the clearing of the current output cell\n",
       "var outputEl = gd.closest('.output');\n",
       "if (outputEl) {{\n",
       "    x.observe(outputEl, {childList: true});\n",
       "}}\n",
       "\n",
       "                        })                };                });            </script>        </div>"
      ]
     },
     "metadata": {},
     "output_type": "display_data"
    }
   ],
   "source": [
    "import plotly.express as px\n",
    "import pandas as pd\n",
    "\n",
    "no_filter = funnel.loc[1,:].reset_index()\n",
    "filter_50 = funnel.loc[50, :].reset_index()\n",
    "\n",
    "df1 = no_filter[['index', 'num_active']].reset_index()\n",
    "df1= df1.to_dict()\n",
    "df2 = filter_50[['index', 'num_active']].reset_index()\n",
    "df2= df2.to_dict()\n",
    "\n",
    "x1 = list(reversed(list(df1['num_active'].values())))\n",
    "y1 = list(df1['num_active'].values())\n",
    "\n",
    "x2=list(reversed(list(df2['num_active'].values())))\n",
    "y2=list(df2['num_active'].values())\n",
    "\n",
    "f1 = go.Funnel(x=x1, y=y1)\n",
    "# f2 = go.Funnel(x=x2, y=y2)\n",
    "\n",
    "data=f1\n",
    "go.Figure(data)\n",
    "\n",
    "\n",
    "###Filtered at a min of 50 txns\n",
    "# mask_txn = funnel['level_0']==50\n",
    "# mask = mask_txn\n",
    "\n",
    "# df=funnel[mask].sort_values('num_active', ascending=False).copy()\n",
    "# y=df['level_1'].values\n",
    "# x=df['num_active'].values\n",
    "\n",
    "\n",
    "stages = ['90 Days', '30 Days','14 Days']\n",
    "active_addresses = [100, 10000, 50000]\n",
    "\n",
    "\n",
    "# no_mask = funnel['level_0']==1\n",
    "# df_no_min = funnel[no_mask].sort_values('num_active', ascending=False).copy()\n",
    "# y_no_min=df_min['level_1'].values\n",
    "# x_no_min=df_min['num_active'].values\n",
    "\n",
    "# funnel\n",
    "\n",
    "\n",
    "# df_funnel_dict=df_funnel[['level_1', 'num_active']].rename(columns={'level_1':'days'}).to_dict()\n",
    "# x1=np.array(df_funnel_dict['days'])\n",
    "# df_funnel_no_min_dict = df_funnel_no_min[['level_1', 'num_active']].rename(columns={'level_1':'days'}).to_dict()\n",
    "# import plotly.express as px\n",
    "# import plotly.graph_objects as go\n",
    "\n",
    "# fig = go.Figure()\n",
    "\n",
    "# df_funnel = df[['level_1', 'num_active']]\n",
    "# df_funnel_no_min = df_no_min[['level_1', 'num_active']]\n",
    "\n",
    "\n",
    "# # data = dict(\n",
    "# #     number=active_addresses,\n",
    "# #     stage = stages)\n",
    "# # df = funnel[mask]\n",
    "# # df=pd.DataFrame(d).sort_values('number', ascending= False)\n",
    "# # stage=[\"Website visit\", \"Downloads\", \"Potential customers\", \"Requested price\", \"invoice sent\"])\n",
    "\n",
    "\n",
    "\n",
    "# stages = [\"Website visit\", \"Downloads\", \"Potential customers\", \"Requested price\", \"invoice sent\"]\n",
    "# df_mtl = pd.DataFrame(dict(number=[39, 27.4, 20.6, 11, 3], stage=stages))\n",
    "# df_mtl['office'] = 'Montreal'\n",
    "# df_toronto = pd.DataFrame(dict(number=[52, 36, 18, 14, 5], stage=stages))\n",
    "# df_toronto['office'] = 'Toronto'\n",
    "# df = pd.concat([df_mtl, df_toronto], axis=0)\n",
    "# fig = px.funnel(df, x='number', y='stage', color='office')\n",
    "# fig.show()"
   ]
  },
  {
   "cell_type": "code",
   "execution_count": 353,
   "id": "e58e49ab-d026-4ddf-aa53-93b809e4bffe",
   "metadata": {},
   "outputs": [
    {
     "data": {
      "application/vnd.plotly.v1+json": {
       "config": {
        "plotlyServerURL": "https://plot.ly"
       },
       "data": [
        {
         "name": "filter",
         "type": "funnel",
         "x": [
          14,
          30,
          90
         ],
         "y": [
          597,
          46507,
          61594
         ]
        },
        {
         "name": "filter",
         "type": "funnel",
         "x": [
          14,
          30,
          90
         ],
         "y": [
          597,
          46507,
          61594
         ]
        },
        {
         "name": "filter",
         "type": "funnel",
         "x": [
          14,
          30,
          90
         ],
         "y": [
          597,
          46507,
          61594
         ]
        },
        {
         "name": "filter",
         "type": "funnel",
         "x": [
          597,
          46507,
          61594
         ],
         "y": [
          14,
          30,
          90
         ]
        },
        {
         "name": "filter",
         "type": "funnel",
         "x": [
          14,
          30,
          90
         ],
         "y": [
          597,
          46507,
          61594
         ]
        },
        {
         "name": "filter",
         "type": "funnel",
         "x": [
          14,
          30,
          90
         ],
         "y": [
          597,
          46507,
          61594
         ]
        },
        {
         "name": "filter",
         "type": "funnel",
         "x": [
          14,
          30,
          90
         ],
         "y": [
          597,
          46507,
          61594
         ]
        },
        {
         "name": "filter",
         "type": "funnel",
         "x": [
          14,
          30,
          90
         ],
         "y": [
          597,
          46507,
          61594
         ]
        },
        {
         "name": "filter",
         "type": "funnel",
         "x": [
          14,
          30,
          90
         ],
         "y": [
          597,
          46507,
          61594
         ]
        },
        {
         "name": "filter",
         "type": "funnel",
         "x": [
          597,
          46507,
          61594
         ],
         "y": [
          14,
          30,
          90
         ]
        },
        {
         "name": "filter",
         "type": "funnel",
         "x": [
          597,
          46507,
          61594
         ],
         "y": [
          14,
          30,
          90
         ]
        },
        {
         "name": "filter",
         "type": "funnel",
         "x": [
          597,
          46507,
          61594
         ],
         "y": [
          14,
          30,
          90
         ]
        },
        {
         "name": "filter",
         "type": "funnel",
         "x": [
          597,
          46507,
          61594
         ],
         "y": [
          "90 Days",
          "30 Days",
          "14 Days"
         ]
        },
        {
         "name": "filter",
         "type": "funnel",
         "x": [
          "90 Days",
          "30 Days",
          "14 Days"
         ],
         "y": [
          597,
          46507,
          61594
         ]
        },
        {
         "name": "filter",
         "type": "funnel",
         "x": [
          "90 Days",
          "30 Days",
          "14 Days"
         ],
         "y": [
          597,
          46507,
          61594
         ]
        },
        {
         "type": "funnel",
         "x": [
          "90 Days",
          "30 Days",
          "14 Days"
         ],
         "y": [
          597,
          46507,
          61594
         ]
        },
        {
         "type": "funnel",
         "x": [
          "90 Days",
          "30 Days",
          "14 Days"
         ],
         "y": [
          7,
          493,
          1301
         ]
        }
       ],
       "layout": {
        "autosize": true,
        "template": {
         "data": {
          "bar": [
           {
            "error_x": {
             "color": "#2a3f5f"
            },
            "error_y": {
             "color": "#2a3f5f"
            },
            "marker": {
             "line": {
              "color": "#E5ECF6",
              "width": 0.5
             },
             "pattern": {
              "fillmode": "overlay",
              "size": 10,
              "solidity": 0.2
             }
            },
            "type": "bar"
           }
          ],
          "barpolar": [
           {
            "marker": {
             "line": {
              "color": "#E5ECF6",
              "width": 0.5
             },
             "pattern": {
              "fillmode": "overlay",
              "size": 10,
              "solidity": 0.2
             }
            },
            "type": "barpolar"
           }
          ],
          "carpet": [
           {
            "aaxis": {
             "endlinecolor": "#2a3f5f",
             "gridcolor": "white",
             "linecolor": "white",
             "minorgridcolor": "white",
             "startlinecolor": "#2a3f5f"
            },
            "baxis": {
             "endlinecolor": "#2a3f5f",
             "gridcolor": "white",
             "linecolor": "white",
             "minorgridcolor": "white",
             "startlinecolor": "#2a3f5f"
            },
            "type": "carpet"
           }
          ],
          "choropleth": [
           {
            "colorbar": {
             "outlinewidth": 0,
             "ticks": ""
            },
            "type": "choropleth"
           }
          ],
          "contour": [
           {
            "colorbar": {
             "outlinewidth": 0,
             "ticks": ""
            },
            "colorscale": [
             [
              0,
              "#0d0887"
             ],
             [
              0.1111111111111111,
              "#46039f"
             ],
             [
              0.2222222222222222,
              "#7201a8"
             ],
             [
              0.3333333333333333,
              "#9c179e"
             ],
             [
              0.4444444444444444,
              "#bd3786"
             ],
             [
              0.5555555555555556,
              "#d8576b"
             ],
             [
              0.6666666666666666,
              "#ed7953"
             ],
             [
              0.7777777777777778,
              "#fb9f3a"
             ],
             [
              0.8888888888888888,
              "#fdca26"
             ],
             [
              1,
              "#f0f921"
             ]
            ],
            "type": "contour"
           }
          ],
          "contourcarpet": [
           {
            "colorbar": {
             "outlinewidth": 0,
             "ticks": ""
            },
            "type": "contourcarpet"
           }
          ],
          "heatmap": [
           {
            "colorbar": {
             "outlinewidth": 0,
             "ticks": ""
            },
            "colorscale": [
             [
              0,
              "#0d0887"
             ],
             [
              0.1111111111111111,
              "#46039f"
             ],
             [
              0.2222222222222222,
              "#7201a8"
             ],
             [
              0.3333333333333333,
              "#9c179e"
             ],
             [
              0.4444444444444444,
              "#bd3786"
             ],
             [
              0.5555555555555556,
              "#d8576b"
             ],
             [
              0.6666666666666666,
              "#ed7953"
             ],
             [
              0.7777777777777778,
              "#fb9f3a"
             ],
             [
              0.8888888888888888,
              "#fdca26"
             ],
             [
              1,
              "#f0f921"
             ]
            ],
            "type": "heatmap"
           }
          ],
          "heatmapgl": [
           {
            "colorbar": {
             "outlinewidth": 0,
             "ticks": ""
            },
            "colorscale": [
             [
              0,
              "#0d0887"
             ],
             [
              0.1111111111111111,
              "#46039f"
             ],
             [
              0.2222222222222222,
              "#7201a8"
             ],
             [
              0.3333333333333333,
              "#9c179e"
             ],
             [
              0.4444444444444444,
              "#bd3786"
             ],
             [
              0.5555555555555556,
              "#d8576b"
             ],
             [
              0.6666666666666666,
              "#ed7953"
             ],
             [
              0.7777777777777778,
              "#fb9f3a"
             ],
             [
              0.8888888888888888,
              "#fdca26"
             ],
             [
              1,
              "#f0f921"
             ]
            ],
            "type": "heatmapgl"
           }
          ],
          "histogram": [
           {
            "marker": {
             "pattern": {
              "fillmode": "overlay",
              "size": 10,
              "solidity": 0.2
             }
            },
            "type": "histogram"
           }
          ],
          "histogram2d": [
           {
            "colorbar": {
             "outlinewidth": 0,
             "ticks": ""
            },
            "colorscale": [
             [
              0,
              "#0d0887"
             ],
             [
              0.1111111111111111,
              "#46039f"
             ],
             [
              0.2222222222222222,
              "#7201a8"
             ],
             [
              0.3333333333333333,
              "#9c179e"
             ],
             [
              0.4444444444444444,
              "#bd3786"
             ],
             [
              0.5555555555555556,
              "#d8576b"
             ],
             [
              0.6666666666666666,
              "#ed7953"
             ],
             [
              0.7777777777777778,
              "#fb9f3a"
             ],
             [
              0.8888888888888888,
              "#fdca26"
             ],
             [
              1,
              "#f0f921"
             ]
            ],
            "type": "histogram2d"
           }
          ],
          "histogram2dcontour": [
           {
            "colorbar": {
             "outlinewidth": 0,
             "ticks": ""
            },
            "colorscale": [
             [
              0,
              "#0d0887"
             ],
             [
              0.1111111111111111,
              "#46039f"
             ],
             [
              0.2222222222222222,
              "#7201a8"
             ],
             [
              0.3333333333333333,
              "#9c179e"
             ],
             [
              0.4444444444444444,
              "#bd3786"
             ],
             [
              0.5555555555555556,
              "#d8576b"
             ],
             [
              0.6666666666666666,
              "#ed7953"
             ],
             [
              0.7777777777777778,
              "#fb9f3a"
             ],
             [
              0.8888888888888888,
              "#fdca26"
             ],
             [
              1,
              "#f0f921"
             ]
            ],
            "type": "histogram2dcontour"
           }
          ],
          "mesh3d": [
           {
            "colorbar": {
             "outlinewidth": 0,
             "ticks": ""
            },
            "type": "mesh3d"
           }
          ],
          "parcoords": [
           {
            "line": {
             "colorbar": {
              "outlinewidth": 0,
              "ticks": ""
             }
            },
            "type": "parcoords"
           }
          ],
          "pie": [
           {
            "automargin": true,
            "type": "pie"
           }
          ],
          "scatter": [
           {
            "fillpattern": {
             "fillmode": "overlay",
             "size": 10,
             "solidity": 0.2
            },
            "type": "scatter"
           }
          ],
          "scatter3d": [
           {
            "line": {
             "colorbar": {
              "outlinewidth": 0,
              "ticks": ""
             }
            },
            "marker": {
             "colorbar": {
              "outlinewidth": 0,
              "ticks": ""
             }
            },
            "type": "scatter3d"
           }
          ],
          "scattercarpet": [
           {
            "marker": {
             "colorbar": {
              "outlinewidth": 0,
              "ticks": ""
             }
            },
            "type": "scattercarpet"
           }
          ],
          "scattergeo": [
           {
            "marker": {
             "colorbar": {
              "outlinewidth": 0,
              "ticks": ""
             }
            },
            "type": "scattergeo"
           }
          ],
          "scattergl": [
           {
            "marker": {
             "colorbar": {
              "outlinewidth": 0,
              "ticks": ""
             }
            },
            "type": "scattergl"
           }
          ],
          "scattermapbox": [
           {
            "marker": {
             "colorbar": {
              "outlinewidth": 0,
              "ticks": ""
             }
            },
            "type": "scattermapbox"
           }
          ],
          "scatterpolar": [
           {
            "marker": {
             "colorbar": {
              "outlinewidth": 0,
              "ticks": ""
             }
            },
            "type": "scatterpolar"
           }
          ],
          "scatterpolargl": [
           {
            "marker": {
             "colorbar": {
              "outlinewidth": 0,
              "ticks": ""
             }
            },
            "type": "scatterpolargl"
           }
          ],
          "scatterternary": [
           {
            "marker": {
             "colorbar": {
              "outlinewidth": 0,
              "ticks": ""
             }
            },
            "type": "scatterternary"
           }
          ],
          "surface": [
           {
            "colorbar": {
             "outlinewidth": 0,
             "ticks": ""
            },
            "colorscale": [
             [
              0,
              "#0d0887"
             ],
             [
              0.1111111111111111,
              "#46039f"
             ],
             [
              0.2222222222222222,
              "#7201a8"
             ],
             [
              0.3333333333333333,
              "#9c179e"
             ],
             [
              0.4444444444444444,
              "#bd3786"
             ],
             [
              0.5555555555555556,
              "#d8576b"
             ],
             [
              0.6666666666666666,
              "#ed7953"
             ],
             [
              0.7777777777777778,
              "#fb9f3a"
             ],
             [
              0.8888888888888888,
              "#fdca26"
             ],
             [
              1,
              "#f0f921"
             ]
            ],
            "type": "surface"
           }
          ],
          "table": [
           {
            "cells": {
             "fill": {
              "color": "#EBF0F8"
             },
             "line": {
              "color": "white"
             }
            },
            "header": {
             "fill": {
              "color": "#C8D4E3"
             },
             "line": {
              "color": "white"
             }
            },
            "type": "table"
           }
          ]
         },
         "layout": {
          "annotationdefaults": {
           "arrowcolor": "#2a3f5f",
           "arrowhead": 0,
           "arrowwidth": 1
          },
          "autotypenumbers": "strict",
          "coloraxis": {
           "colorbar": {
            "outlinewidth": 0,
            "ticks": ""
           }
          },
          "colorscale": {
           "diverging": [
            [
             0,
             "#8e0152"
            ],
            [
             0.1,
             "#c51b7d"
            ],
            [
             0.2,
             "#de77ae"
            ],
            [
             0.3,
             "#f1b6da"
            ],
            [
             0.4,
             "#fde0ef"
            ],
            [
             0.5,
             "#f7f7f7"
            ],
            [
             0.6,
             "#e6f5d0"
            ],
            [
             0.7,
             "#b8e186"
            ],
            [
             0.8,
             "#7fbc41"
            ],
            [
             0.9,
             "#4d9221"
            ],
            [
             1,
             "#276419"
            ]
           ],
           "sequential": [
            [
             0,
             "#0d0887"
            ],
            [
             0.1111111111111111,
             "#46039f"
            ],
            [
             0.2222222222222222,
             "#7201a8"
            ],
            [
             0.3333333333333333,
             "#9c179e"
            ],
            [
             0.4444444444444444,
             "#bd3786"
            ],
            [
             0.5555555555555556,
             "#d8576b"
            ],
            [
             0.6666666666666666,
             "#ed7953"
            ],
            [
             0.7777777777777778,
             "#fb9f3a"
            ],
            [
             0.8888888888888888,
             "#fdca26"
            ],
            [
             1,
             "#f0f921"
            ]
           ],
           "sequentialminus": [
            [
             0,
             "#0d0887"
            ],
            [
             0.1111111111111111,
             "#46039f"
            ],
            [
             0.2222222222222222,
             "#7201a8"
            ],
            [
             0.3333333333333333,
             "#9c179e"
            ],
            [
             0.4444444444444444,
             "#bd3786"
            ],
            [
             0.5555555555555556,
             "#d8576b"
            ],
            [
             0.6666666666666666,
             "#ed7953"
            ],
            [
             0.7777777777777778,
             "#fb9f3a"
            ],
            [
             0.8888888888888888,
             "#fdca26"
            ],
            [
             1,
             "#f0f921"
            ]
           ]
          },
          "colorway": [
           "#636efa",
           "#EF553B",
           "#00cc96",
           "#ab63fa",
           "#FFA15A",
           "#19d3f3",
           "#FF6692",
           "#B6E880",
           "#FF97FF",
           "#FECB52"
          ],
          "font": {
           "color": "#2a3f5f"
          },
          "geo": {
           "bgcolor": "white",
           "lakecolor": "white",
           "landcolor": "#E5ECF6",
           "showlakes": true,
           "showland": true,
           "subunitcolor": "white"
          },
          "hoverlabel": {
           "align": "left"
          },
          "hovermode": "closest",
          "mapbox": {
           "style": "light"
          },
          "paper_bgcolor": "white",
          "plot_bgcolor": "#E5ECF6",
          "polar": {
           "angularaxis": {
            "gridcolor": "white",
            "linecolor": "white",
            "ticks": ""
           },
           "bgcolor": "#E5ECF6",
           "radialaxis": {
            "gridcolor": "white",
            "linecolor": "white",
            "ticks": ""
           }
          },
          "scene": {
           "xaxis": {
            "backgroundcolor": "#E5ECF6",
            "gridcolor": "white",
            "gridwidth": 2,
            "linecolor": "white",
            "showbackground": true,
            "ticks": "",
            "zerolinecolor": "white"
           },
           "yaxis": {
            "backgroundcolor": "#E5ECF6",
            "gridcolor": "white",
            "gridwidth": 2,
            "linecolor": "white",
            "showbackground": true,
            "ticks": "",
            "zerolinecolor": "white"
           },
           "zaxis": {
            "backgroundcolor": "#E5ECF6",
            "gridcolor": "white",
            "gridwidth": 2,
            "linecolor": "white",
            "showbackground": true,
            "ticks": "",
            "zerolinecolor": "white"
           }
          },
          "shapedefaults": {
           "line": {
            "color": "#2a3f5f"
           }
          },
          "ternary": {
           "aaxis": {
            "gridcolor": "white",
            "linecolor": "white",
            "ticks": ""
           },
           "baxis": {
            "gridcolor": "white",
            "linecolor": "white",
            "ticks": ""
           },
           "bgcolor": "#E5ECF6",
           "caxis": {
            "gridcolor": "white",
            "linecolor": "white",
            "ticks": ""
           }
          },
          "title": {
           "x": 0.05
          },
          "xaxis": {
           "automargin": true,
           "gridcolor": "white",
           "linecolor": "white",
           "ticks": "",
           "title": {
            "standoff": 15
           },
           "zerolinecolor": "white",
           "zerolinewidth": 2
          },
          "yaxis": {
           "automargin": true,
           "gridcolor": "white",
           "linecolor": "white",
           "ticks": "",
           "title": {
            "standoff": 15
           },
           "zerolinecolor": "white",
           "zerolinewidth": 2
          }
         }
        },
        "xaxis": {
         "autorange": true,
         "range": [
          -136875.55555555556,
          136875.55555555556
         ],
         "type": "linear"
        },
        "yaxis": {
         "autorange": true,
         "range": [
          61597.5,
          3.5
         ],
         "type": "linear"
        }
       }
      },
      "image/png": "[encoded data removed]",
      "text/html": [
       "<div>                            <div id=\"482470e0-2a0a-41b1-990b-b3bed196eeb2\" class=\"plotly-graph-div\" style=\"height:525px; width:100%;\"></div>            <script type=\"text/javascript\">                require([\"plotly\"], function(Plotly) {                    window.PLOTLYENV=window.PLOTLYENV || {};                                    if (document.getElementById(\"482470e0-2a0a-41b1-990b-b3bed196eeb2\")) {                    Plotly.newPlot(                        \"482470e0-2a0a-41b1-990b-b3bed196eeb2\",                        [{\"name\":\"filter\",\"x\":[14,30,90],\"y\":[597,46507,61594],\"type\":\"funnel\"},{\"name\":\"filter\",\"x\":[14,30,90],\"y\":[597,46507,61594],\"type\":\"funnel\"},{\"name\":\"filter\",\"x\":[14,30,90],\"y\":[597,46507,61594],\"type\":\"funnel\"},{\"name\":\"filter\",\"x\":[597,46507,61594],\"y\":[14,30,90],\"type\":\"funnel\"},{\"name\":\"filter\",\"x\":[14,30,90],\"y\":[597,46507,61594],\"type\":\"funnel\"},{\"name\":\"filter\",\"x\":[14,30,90],\"y\":[597,46507,61594],\"type\":\"funnel\"},{\"name\":\"filter\",\"x\":[14,30,90],\"y\":[597,46507,61594],\"type\":\"funnel\"},{\"name\":\"filter\",\"x\":[14,30,90],\"y\":[597,46507,61594],\"type\":\"funnel\"},{\"name\":\"filter\",\"x\":[14,30,90],\"y\":[597,46507,61594],\"type\":\"funnel\"},{\"name\":\"filter\",\"x\":[597,46507,61594],\"y\":[14,30,90],\"type\":\"funnel\"},{\"name\":\"filter\",\"x\":[597,46507,61594],\"y\":[14,30,90],\"type\":\"funnel\"},{\"name\":\"filter\",\"x\":[597,46507,61594],\"y\":[14,30,90],\"type\":\"funnel\"},{\"name\":\"filter\",\"x\":[597,46507,61594],\"y\":[\"90 Days\",\"30 Days\",\"14 Days\"],\"type\":\"funnel\"},{\"name\":\"filter\",\"x\":[\"90 Days\",\"30 Days\",\"14 Days\"],\"y\":[597,46507,61594],\"type\":\"funnel\"},{\"name\":\"filter\",\"x\":[\"90 Days\",\"30 Days\",\"14 Days\"],\"y\":[597,46507,61594],\"type\":\"funnel\"},{\"x\":[\"90 Days\",\"30 Days\",\"14 Days\"],\"y\":[597,46507,61594],\"type\":\"funnel\"},{\"x\":[\"90 Days\",\"30 Days\",\"14 Days\"],\"y\":[7,493,1301],\"type\":\"funnel\"}],                        {\"template\":{\"data\":{\"barpolar\":[{\"marker\":{\"line\":{\"color\":\"#E5ECF6\",\"width\":0.5},\"pattern\":{\"fillmode\":\"overlay\",\"size\":10,\"solidity\":0.2}},\"type\":\"barpolar\"}],\"bar\":[{\"error_x\":{\"color\":\"#2a3f5f\"},\"error_y\":{\"color\":\"#2a3f5f\"},\"marker\":{\"line\":{\"color\":\"#E5ECF6\",\"width\":0.5},\"pattern\":{\"fillmode\":\"overlay\",\"size\":10,\"solidity\":0.2}},\"type\":\"bar\"}],\"carpet\":[{\"aaxis\":{\"endlinecolor\":\"#2a3f5f\",\"gridcolor\":\"white\",\"linecolor\":\"white\",\"minorgridcolor\":\"white\",\"startlinecolor\":\"#2a3f5f\"},\"baxis\":{\"endlinecolor\":\"#2a3f5f\",\"gridcolor\":\"white\",\"linecolor\":\"white\",\"minorgridcolor\":\"white\",\"startlinecolor\":\"#2a3f5f\"},\"type\":\"carpet\"}],\"choropleth\":[{\"colorbar\":{\"outlinewidth\":0,\"ticks\":\"\"},\"type\":\"choropleth\"}],\"contourcarpet\":[{\"colorbar\":{\"outlinewidth\":0,\"ticks\":\"\"},\"type\":\"contourcarpet\"}],\"contour\":[{\"colorbar\":{\"outlinewidth\":0,\"ticks\":\"\"},\"colorscale\":[[0.0,\"#0d0887\"],[0.1111111111111111,\"#46039f\"],[0.2222222222222222,\"#7201a8\"],[0.3333333333333333,\"#9c179e\"],[0.4444444444444444,\"#bd3786\"],[0.5555555555555556,\"#d8576b\"],[0.6666666666666666,\"#ed7953\"],[0.7777777777777778,\"#fb9f3a\"],[0.8888888888888888,\"#fdca26\"],[1.0,\"#f0f921\"]],\"type\":\"contour\"}],\"heatmapgl\":[{\"colorbar\":{\"outlinewidth\":0,\"ticks\":\"\"},\"colorscale\":[[0.0,\"#0d0887\"],[0.1111111111111111,\"#46039f\"],[0.2222222222222222,\"#7201a8\"],[0.3333333333333333,\"#9c179e\"],[0.4444444444444444,\"#bd3786\"],[0.5555555555555556,\"#d8576b\"],[0.6666666666666666,\"#ed7953\"],[0.7777777777777778,\"#fb9f3a\"],[0.8888888888888888,\"#fdca26\"],[1.0,\"#f0f921\"]],\"type\":\"heatmapgl\"}],\"heatmap\":[{\"colorbar\":{\"outlinewidth\":0,\"ticks\":\"\"},\"colorscale\":[[0.0,\"#0d0887\"],[0.1111111111111111,\"#46039f\"],[0.2222222222222222,\"#7201a8\"],[0.3333333333333333,\"#9c179e\"],[0.4444444444444444,\"#bd3786\"],[0.5555555555555556,\"#d8576b\"],[0.6666666666666666,\"#ed7953\"],[0.7777777777777778,\"#fb9f3a\"],[0.8888888888888888,\"#fdca26\"],[1.0,\"#f0f921\"]],\"type\":\"heatmap\"}],\"histogram2dcontour\":[{\"colorbar\":{\"outlinewidth\":0,\"ticks\":\"\"},\"colorscale\":[[0.0,\"#0d0887\"],[0.1111111111111111,\"#46039f\"],[0.2222222222222222,\"#7201a8\"],[0.3333333333333333,\"#9c179e\"],[0.4444444444444444,\"#bd3786\"],[0.5555555555555556,\"#d8576b\"],[0.6666666666666666,\"#ed7953\"],[0.7777777777777778,\"#fb9f3a\"],[0.8888888888888888,\"#fdca26\"],[1.0,\"#f0f921\"]],\"type\":\"histogram2dcontour\"}],\"histogram2d\":[{\"colorbar\":{\"outlinewidth\":0,\"ticks\":\"\"},\"colorscale\":[[0.0,\"#0d0887\"],[0.1111111111111111,\"#46039f\"],[0.2222222222222222,\"#7201a8\"],[0.3333333333333333,\"#9c179e\"],[0.4444444444444444,\"#bd3786\"],[0.5555555555555556,\"#d8576b\"],[0.6666666666666666,\"#ed7953\"],[0.7777777777777778,\"#fb9f3a\"],[0.8888888888888888,\"#fdca26\"],[1.0,\"#f0f921\"]],\"type\":\"histogram2d\"}],\"histogram\":[{\"marker\":{\"pattern\":{\"fillmode\":\"overlay\",\"size\":10,\"solidity\":0.2}},\"type\":\"histogram\"}],\"mesh3d\":[{\"colorbar\":{\"outlinewidth\":0,\"ticks\":\"\"},\"type\":\"mesh3d\"}],\"parcoords\":[{\"line\":{\"colorbar\":{\"outlinewidth\":0,\"ticks\":\"\"}},\"type\":\"parcoords\"}],\"pie\":[{\"automargin\":true,\"type\":\"pie\"}],\"scatter3d\":[{\"line\":{\"colorbar\":{\"outlinewidth\":0,\"ticks\":\"\"}},\"marker\":{\"colorbar\":{\"outlinewidth\":0,\"ticks\":\"\"}},\"type\":\"scatter3d\"}],\"scattercarpet\":[{\"marker\":{\"colorbar\":{\"outlinewidth\":0,\"ticks\":\"\"}},\"type\":\"scattercarpet\"}],\"scattergeo\":[{\"marker\":{\"colorbar\":{\"outlinewidth\":0,\"ticks\":\"\"}},\"type\":\"scattergeo\"}],\"scattergl\":[{\"marker\":{\"colorbar\":{\"outlinewidth\":0,\"ticks\":\"\"}},\"type\":\"scattergl\"}],\"scattermapbox\":[{\"marker\":{\"colorbar\":{\"outlinewidth\":0,\"ticks\":\"\"}},\"type\":\"scattermapbox\"}],\"scatterpolargl\":[{\"marker\":{\"colorbar\":{\"outlinewidth\":0,\"ticks\":\"\"}},\"type\":\"scatterpolargl\"}],\"scatterpolar\":[{\"marker\":{\"colorbar\":{\"outlinewidth\":0,\"ticks\":\"\"}},\"type\":\"scatterpolar\"}],\"scatter\":[{\"fillpattern\":{\"fillmode\":\"overlay\",\"size\":10,\"solidity\":0.2},\"type\":\"scatter\"}],\"scatterternary\":[{\"marker\":{\"colorbar\":{\"outlinewidth\":0,\"ticks\":\"\"}},\"type\":\"scatterternary\"}],\"surface\":[{\"colorbar\":{\"outlinewidth\":0,\"ticks\":\"\"},\"colorscale\":[[0.0,\"#0d0887\"],[0.1111111111111111,\"#46039f\"],[0.2222222222222222,\"#7201a8\"],[0.3333333333333333,\"#9c179e\"],[0.4444444444444444,\"#bd3786\"],[0.5555555555555556,\"#d8576b\"],[0.6666666666666666,\"#ed7953\"],[0.7777777777777778,\"#fb9f3a\"],[0.8888888888888888,\"#fdca26\"],[1.0,\"#f0f921\"]],\"type\":\"surface\"}],\"table\":[{\"cells\":{\"fill\":{\"color\":\"#EBF0F8\"},\"line\":{\"color\":\"white\"}},\"header\":{\"fill\":{\"color\":\"#C8D4E3\"},\"line\":{\"color\":\"white\"}},\"type\":\"table\"}]},\"layout\":{\"annotationdefaults\":{\"arrowcolor\":\"#2a3f5f\",\"arrowhead\":0,\"arrowwidth\":1},\"autotypenumbers\":\"strict\",\"coloraxis\":{\"colorbar\":{\"outlinewidth\":0,\"ticks\":\"\"}},\"colorscale\":{\"diverging\":[[0,\"#8e0152\"],[0.1,\"#c51b7d\"],[0.2,\"#de77ae\"],[0.3,\"#f1b6da\"],[0.4,\"#fde0ef\"],[0.5,\"#f7f7f7\"],[0.6,\"#e6f5d0\"],[0.7,\"#b8e186\"],[0.8,\"#7fbc41\"],[0.9,\"#4d9221\"],[1,\"#276419\"]],\"sequential\":[[0.0,\"#0d0887\"],[0.1111111111111111,\"#46039f\"],[0.2222222222222222,\"#7201a8\"],[0.3333333333333333,\"#9c179e\"],[0.4444444444444444,\"#bd3786\"],[0.5555555555555556,\"#d8576b\"],[0.6666666666666666,\"#ed7953\"],[0.7777777777777778,\"#fb9f3a\"],[0.8888888888888888,\"#fdca26\"],[1.0,\"#f0f921\"]],\"sequentialminus\":[[0.0,\"#0d0887\"],[0.1111111111111111,\"#46039f\"],[0.2222222222222222,\"#7201a8\"],[0.3333333333333333,\"#9c179e\"],[0.4444444444444444,\"#bd3786\"],[0.5555555555555556,\"#d8576b\"],[0.6666666666666666,\"#ed7953\"],[0.7777777777777778,\"#fb9f3a\"],[0.8888888888888888,\"#fdca26\"],[1.0,\"#f0f921\"]]},\"colorway\":[\"#636efa\",\"#EF553B\",\"#00cc96\",\"#ab63fa\",\"#FFA15A\",\"#19d3f3\",\"#FF6692\",\"#B6E880\",\"#FF97FF\",\"#FECB52\"],\"font\":{\"color\":\"#2a3f5f\"},\"geo\":{\"bgcolor\":\"white\",\"lakecolor\":\"white\",\"landcolor\":\"#E5ECF6\",\"showlakes\":true,\"showland\":true,\"subunitcolor\":\"white\"},\"hoverlabel\":{\"align\":\"left\"},\"hovermode\":\"closest\",\"mapbox\":{\"style\":\"light\"},\"paper_bgcolor\":\"white\",\"plot_bgcolor\":\"#E5ECF6\",\"polar\":{\"angularaxis\":{\"gridcolor\":\"white\",\"linecolor\":\"white\",\"ticks\":\"\"},\"bgcolor\":\"#E5ECF6\",\"radialaxis\":{\"gridcolor\":\"white\",\"linecolor\":\"white\",\"ticks\":\"\"}},\"scene\":{\"xaxis\":{\"backgroundcolor\":\"#E5ECF6\",\"gridcolor\":\"white\",\"gridwidth\":2,\"linecolor\":\"white\",\"showbackground\":true,\"ticks\":\"\",\"zerolinecolor\":\"white\"},\"yaxis\":{\"backgroundcolor\":\"#E5ECF6\",\"gridcolor\":\"white\",\"gridwidth\":2,\"linecolor\":\"white\",\"showbackground\":true,\"ticks\":\"\",\"zerolinecolor\":\"white\"},\"zaxis\":{\"backgroundcolor\":\"#E5ECF6\",\"gridcolor\":\"white\",\"gridwidth\":2,\"linecolor\":\"white\",\"showbackground\":true,\"ticks\":\"\",\"zerolinecolor\":\"white\"}},\"shapedefaults\":{\"line\":{\"color\":\"#2a3f5f\"}},\"ternary\":{\"aaxis\":{\"gridcolor\":\"white\",\"linecolor\":\"white\",\"ticks\":\"\"},\"baxis\":{\"gridcolor\":\"white\",\"linecolor\":\"white\",\"ticks\":\"\"},\"bgcolor\":\"#E5ECF6\",\"caxis\":{\"gridcolor\":\"white\",\"linecolor\":\"white\",\"ticks\":\"\"}},\"title\":{\"x\":0.05},\"xaxis\":{\"automargin\":true,\"gridcolor\":\"white\",\"linecolor\":\"white\",\"ticks\":\"\",\"title\":{\"standoff\":15},\"zerolinecolor\":\"white\",\"zerolinewidth\":2},\"yaxis\":{\"automargin\":true,\"gridcolor\":\"white\",\"linecolor\":\"white\",\"ticks\":\"\",\"title\":{\"standoff\":15},\"zerolinecolor\":\"white\",\"zerolinewidth\":2}}}},                        {\"responsive\": true}                    ).then(function(){\n",
       "                            \n",
       "var gd = document.getElementById('482470e0-2a0a-41b1-990b-b3bed196eeb2');\n",
       "var x = new MutationObserver(function (mutations, observer) {{\n",
       "        var display = window.getComputedStyle(gd).display;\n",
       "        if (!display || display === 'none') {{\n",
       "            console.log([gd, 'removed!']);\n",
       "            Plotly.purge(gd);\n",
       "            observer.disconnect();\n",
       "        }}\n",
       "}});\n",
       "\n",
       "// Listen for the removal of the full notebook cells\n",
       "var notebookContainer = gd.closest('#notebook-container');\n",
       "if (notebookContainer) {{\n",
       "    x.observe(notebookContainer, {childList: true});\n",
       "}}\n",
       "\n",
       "// Listen for the clearing of the current output cell\n",
       "var outputEl = gd.closest('.output');\n",
       "if (outputEl) {{\n",
       "    x.observe(outputEl, {childList: true});\n",
       "}}\n",
       "\n",
       "                        })                };                });            </script>        </div>"
      ]
     },
     "metadata": {},
     "output_type": "display_data"
    }
   ],
   "source": [
    "fig.show()"
   ]
  },
  {
   "cell_type": "code",
   "execution_count": null,
   "id": "7a035438-569a-4fe4-b1aa-8c279665a55c",
   "metadata": {},
   "outputs": [],
   "source": []
  }
 ],
 "metadata": {
  "kernelspec": {
   "display_name": "Python [conda env:magic_env] *",
   "language": "python",
   "name": "conda-env-magic_env-py"
  },
  "language_info": {
   "codemirror_mode": {
    "name": "ipython",
    "version": 3
   },
   "file_extension": ".py",
   "mimetype": "text/x-python",
   "name": "python",
   "nbconvert_exporter": "python",
   "pygments_lexer": "ipython3",
   "version": "3.10.4"
  }
 },
 "nbformat": 4,
 "nbformat_minor": 5
}
